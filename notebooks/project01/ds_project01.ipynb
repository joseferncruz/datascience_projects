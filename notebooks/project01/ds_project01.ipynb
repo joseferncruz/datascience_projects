{
 "cells": [
  {
   "cell_type": "markdown",
   "metadata": {},
   "source": [
    "# Data Science Project\n",
    "---\n",
    "_This project was developed as part of the Data Science Certification provided by DataCamp_\n",
    "\n",
    "\n",
    "\n",
    "__Disclaimer__\n",
    "\n",
    "\n",
    "## Introduction\n",
    "---\n",
    "Every year for the past 40-plus years, Peter and Rosemary Grant have gone to the Galápagos island of Daphne Major and collected data on Darwin's finches. Using your skills in statistical inference, you will spend this chapter with their data, and witness first hand, through data, evolution in action. It's an exhilarating way to end the course! "
   ]
  },
  {
   "cell_type": "markdown",
   "metadata": {},
   "source": [
    "## The dataset\n",
    "---\n",
    "\n",
    "What is all about, what can I find in it, etc."
   ]
  },
  {
   "cell_type": "code",
   "execution_count": 1,
   "metadata": {},
   "outputs": [],
   "source": [
    "# Import Necessary Packages\n",
    "import numpy as np\n",
    "np.random.seed(0)\n",
    "import seaborn as sns\n",
    "import matplotlib.pyplot as plt\n",
    "import pandas as pd\n",
    "from importlib import reload"
   ]
  },
  {
   "cell_type": "code",
   "execution_count": 3,
   "metadata": {},
   "outputs": [
    {
     "name": "stdin",
     "output_type": "stream",
     "text": [
      "Abs path to module pstats C:\\Users\\josec\\Desktop\\github_repos\\datascience_projects\\\n"
     ]
    }
   ],
   "source": [
    "# Import personal modules\n",
    "import sys\n",
    "sys.path.append(input('Abs path to module pstats'))\n",
    "\n",
    "from my_statslib import my_stats"
   ]
  },
  {
   "cell_type": "code",
   "execution_count": 4,
   "metadata": {},
   "outputs": [],
   "source": [
    "# upload the dataset\n",
    "link_finch_1975 = 'https://assets.datacamp.com/production/repositories/470/datasets/eb228490f7d823bfa6458b93db075ca5ccd3ec3d/finch_beaks_1975.csv'\n",
    "finch_1975 = pd.read_csv(link_finch_1975)\n",
    "finch_1975['year'] = 1975\n",
    "\n",
    "link_finch_2012 = 'https://assets.datacamp.com/production/repositories/470/datasets/b28d5bf65e38460dca7b3c5c0e4d53bdfc1eb905/finch_beaks_2012.csv'\n",
    "finch_2012 = pd.read_csv(link_finch_2012)\n",
    "finch_2012['year'] = 2012\n",
    "\n",
    "# get the same column names\n",
    "finch_1975.columns = finch_2012.columns"
   ]
  },
  {
   "cell_type": "code",
   "execution_count": 5,
   "metadata": {},
   "outputs": [],
   "source": [
    "# Merge the 2 datasets together\n",
    "finch_main = finch_1975.append(finch_2012, ignore_index=True)"
   ]
  },
  {
   "cell_type": "markdown",
   "metadata": {},
   "source": [
    "## Exploratory Data Analysis\n",
    "___\n",
    "\n",
    "For your first foray into the Darwin finch data, you will study how the beak depth (the distance, top to bottom, of a closed beak) of the finch species Geospiza scandens has changed over time. The Grants have noticed some changes of beak geometry depending on the types of seeds available on the island, and they also noticed that there was some interbreeding with another major species on Daphne Major, Geospiza fortis. These effects can lead to changes in the species over time.\n"
   ]
  },
  {
   "cell_type": "code",
   "execution_count": 6,
   "metadata": {},
   "outputs": [
    {
     "data": {
      "text/html": [
       "<div>\n",
       "<style scoped>\n",
       "    .dataframe tbody tr th:only-of-type {\n",
       "        vertical-align: middle;\n",
       "    }\n",
       "\n",
       "    .dataframe tbody tr th {\n",
       "        vertical-align: top;\n",
       "    }\n",
       "\n",
       "    .dataframe thead th {\n",
       "        text-align: right;\n",
       "    }\n",
       "</style>\n",
       "<table border=\"1\" class=\"dataframe\">\n",
       "  <thead>\n",
       "    <tr style=\"text-align: right;\">\n",
       "      <th></th>\n",
       "      <th>band</th>\n",
       "      <th>species</th>\n",
       "      <th>blength</th>\n",
       "      <th>bdepth</th>\n",
       "      <th>year</th>\n",
       "    </tr>\n",
       "  </thead>\n",
       "  <tbody>\n",
       "    <tr>\n",
       "      <th>0</th>\n",
       "      <td>2</td>\n",
       "      <td>fortis</td>\n",
       "      <td>9.4</td>\n",
       "      <td>8.0</td>\n",
       "      <td>1975</td>\n",
       "    </tr>\n",
       "    <tr>\n",
       "      <th>1</th>\n",
       "      <td>9</td>\n",
       "      <td>fortis</td>\n",
       "      <td>9.2</td>\n",
       "      <td>8.3</td>\n",
       "      <td>1975</td>\n",
       "    </tr>\n",
       "    <tr>\n",
       "      <th>2</th>\n",
       "      <td>12</td>\n",
       "      <td>fortis</td>\n",
       "      <td>9.5</td>\n",
       "      <td>7.5</td>\n",
       "      <td>1975</td>\n",
       "    </tr>\n",
       "    <tr>\n",
       "      <th>3</th>\n",
       "      <td>15</td>\n",
       "      <td>fortis</td>\n",
       "      <td>9.5</td>\n",
       "      <td>8.0</td>\n",
       "      <td>1975</td>\n",
       "    </tr>\n",
       "    <tr>\n",
       "      <th>4</th>\n",
       "      <td>305</td>\n",
       "      <td>fortis</td>\n",
       "      <td>11.5</td>\n",
       "      <td>9.9</td>\n",
       "      <td>1975</td>\n",
       "    </tr>\n",
       "  </tbody>\n",
       "</table>\n",
       "</div>"
      ],
      "text/plain": [
       "   band species  blength  bdepth  year\n",
       "0     2  fortis      9.4     8.0  1975\n",
       "1     9  fortis      9.2     8.3  1975\n",
       "2    12  fortis      9.5     7.5  1975\n",
       "3    15  fortis      9.5     8.0  1975\n",
       "4   305  fortis     11.5     9.9  1975"
      ]
     },
     "execution_count": 6,
     "metadata": {},
     "output_type": "execute_result"
    }
   ],
   "source": [
    "finch_main.head()"
   ]
  },
  {
   "cell_type": "code",
   "execution_count": 7,
   "metadata": {},
   "outputs": [
    {
     "data": {
      "text/plain": [
       "array(['fortis', 'scandens'], dtype=object)"
      ]
     },
     "execution_count": 7,
     "metadata": {},
     "output_type": "execute_result"
    }
   ],
   "source": [
    "finch_main.species.unique()"
   ]
  },
  {
   "cell_type": "markdown",
   "metadata": {},
   "source": [
    "Let's have a look at the species _Geospiza scandens_."
   ]
  },
  {
   "cell_type": "code",
   "execution_count": 8,
   "metadata": {},
   "outputs": [
    {
     "data": {
      "image/png": "[encoded data removed]",
      "text/plain": [
       "<Figure size 432x288 with 1 Axes>"
      ]
     },
     "metadata": {},
     "output_type": "display_data"
    }
   ],
   "source": [
    "fig, ax = plt.subplots()\n",
    "sns.swarmplot(\n",
    "    x='year',\n",
    "    y='bdepth',\n",
    "    data=finch_main[finch_main.species.isin(['scandens'])],\n",
    "#     hue='species',\n",
    "    ax=ax,\n",
    ")\n",
    "ax.set(ylabel='Beak depth (mm)')\n",
    "ax.margins(0.2)"
   ]
  },
  {
   "cell_type": "markdown",
   "metadata": {},
   "source": [
    "Let's have a look at the distributions"
   ]
  },
  {
   "cell_type": "code",
   "execution_count": 9,
   "metadata": {},
   "outputs": [
    {
     "ename": "NameError",
     "evalue": "name 'stats' is not defined",
     "output_type": "error",
     "traceback": [
      "Traceback \u001b[1;36m(most recent call last)\u001b[0m:\n",
      "\u001b[1;36m  File \u001b[1;32m\"<ipython-input-9-1efbec7a4b88>\"\u001b[1;36m, line \u001b[1;32m2\u001b[1;36m, in \u001b[1;35m<module>\u001b[1;36m\u001b[0m\n\u001b[1;33m    x_1915, y_1975 = stats.ecdf(finch_1975.bdepth[finch_1975.species.isin(['scandens'])])\u001b[0m\n",
      "\u001b[1;31mNameError\u001b[0m\u001b[1;31m:\u001b[0m name 'stats' is not defined\n"
     ]
    }
   ],
   "source": [
    "# Prepare data for ECDF\n",
    "x_1915, y_1975 = stats.ecdf(finch_1975.bdepth[finch_1975.species.isin(['scandens'])])\n",
    "x_2012, y_2012 = stats.ecdf(finch_2012.bdepth[finch_2012.species.isin(['scandens'])])\n",
    "\n",
    "fig, ax = plt.subplots()\n",
    "\n",
    "ax.plot(x_1915, y_1975, label='1975', marker='.', ls='none')\n",
    "ax.plot(x_2012, y_2012, label='2012', marker='.', ls='none')\n",
    "\n",
    "ax.set(ylabel='ECDF', xlabel='beak length (mm)')\n",
    "ax.margins(0.02)\n",
    "ax.legend()"
   ]
  },
  {
   "cell_type": "markdown",
   "metadata": {},
   "source": [
    "There seem to exist a clear different in the distribution of the beak length in the 2 measurements.  \n",
    "### How Confidence are we on these measurements?  \n",
    "\n",
    "Let's estimate the difference of the mean beak depth of the G. scandens samples from 1975 and 2012 with a 95% confidence interval."
   ]
  },
  {
   "cell_type": "code",
   "execution_count": null,
   "metadata": {},
   "outputs": [],
   "source": [
    "bd_scandens_1975 = finch_1975.bdepth[finch_1975.species.isin(['scandens'])]\n",
    "bd_scandens_2012 = finch_2012.bdepth[finch_2012.species.isin(['scandens'])]\n",
    "\n",
    "diff_means = bd_scandens_2012.mean() - bd_scandens_1975.mean()"
   ]
  },
  {
   "cell_type": "code",
   "execution_count": null,
   "metadata": {},
   "outputs": [],
   "source": [
    "bs_replicates_1975 = stats.draw_bs_reps(bd_scandens_1975, np.mean, size=10000)\n",
    "bs_replicates_2012 = stats.draw_bs_reps(bd_scandens_2012, np.mean, size=10000)\n",
    "\n",
    "bs_diff_means = bs_replicates_2012 - bs_replicates_1975\n",
    "\n",
    "\n",
    "ci95 = np.percentile(bs_diff_means, [2.5, 97.5])"
   ]
  },
  {
   "cell_type": "code",
   "execution_count": null,
   "metadata": {},
   "outputs": [],
   "source": [
    "fig, ax = plt.subplots()\n",
    "\n",
    "ax.hist(bs_diff_means, bins=50, density=True);\n",
    "ax.axvline(ci95[0], color='red')\n",
    "ax.axvline(ci95[1], color='red', label='CI 95%')\n",
    "\n",
    "ax.set(ylabel='Density', xlabel='mean(bd 2012) - mean (bd 1975)')\n",
    "ax.legend()\n",
    "ax.margins(0.02)"
   ]
  },
  {
   "cell_type": "code",
   "execution_count": null,
   "metadata": {},
   "outputs": [],
   "source": [
    "# Print the results\n",
    "print('difference of means =', diff_means, 'mm')\n",
    "print('95% confidence interval =', ci95, 'mm')"
   ]
  },
  {
   "cell_type": "markdown",
   "metadata": {},
   "source": [
    "## Hypothesis test: Are beaks deeper in 2012\n",
    "\n",
    "Your plot of the ECDF and determination of the confidence interval make it pretty clear that the beaks of G. scandens on Daphne Major have gotten deeper. But is it possible that this effect is just due to random chance? In other words, what is the probability that we would get the observed difference in mean beak depth if the means were the same?  \n",
    "\n",
    "Be careful! The hypothesis we are testing is not that the beak depths come from the same distribution. For that we could use a permutation test. The hypothesis is that the means are equal.  \n",
    "\n",
    "\n",
    "\n",
    "H0: The means between the 2 measurements are not different.  \n",
    "HA: The means between 2 measurements are different"
   ]
  },
  {
   "cell_type": "code",
   "execution_count": null,
   "metadata": {},
   "outputs": [],
   "source": [
    "# Calculate original difference in means\n",
    "original_diff_means = bd_scandens_2012.mean() - bd_scandens_1975.mean()\n",
    "\n",
    "# Merge the populations\n",
    "bd_scandens_merged = np.concatenate((bd_scandens_1975, bd_scandens_2012))\n",
    "\n",
    "# Shift data to center around the full mean with variance unchanged\n",
    "shifted_bd_scandens_1975 = bd_scandens_1975 - bd_scandens_1975.mean()\\\n",
    "                           + bd_scandens_merged.mean()\n",
    "\n",
    "shifted_bd_scandens_2012 = bd_scandens_2012 - bd_scandens_2012.mean()\\\n",
    "                           + bd_scandens_merged.mean()\n",
    "\n",
    "\n",
    "# Create new replicates\n",
    "bs_replicates_scandens_1975 = stats.draw_bs_reps(shifted_bd_scandens_1975,\n",
    "                                           np.mean,\n",
    "                                           size=10000)\n",
    "\n",
    "bs_replicates_scandens_2012 = stats.draw_bs_reps(shifted_bd_scandens_2012,\n",
    "                                           np.mean,\n",
    "                                           size=10000)\n",
    "\n",
    "# Check the difference in means\n",
    "bs_replicates_diff_means = bs_replicates_scandens_2012 - bs_replicates_scandens_1975\n",
    "\n",
    "\n",
    "pvalue = np.sum(bs_replicates_diff_means >= original_diff_means)/10000"
   ]
  },
  {
   "cell_type": "code",
   "execution_count": 10,
   "metadata": {},
   "outputs": [
    {
     "ename": "NameError",
     "evalue": "name 'bs_replicates_diff_means' is not defined",
     "output_type": "error",
     "traceback": [
      "Traceback \u001b[1;36m(most recent call last)\u001b[0m:\n",
      "\u001b[1;36m  File \u001b[1;32m\"<ipython-input-10-c10e109f9974>\"\u001b[1;36m, line \u001b[1;32m1\u001b[1;36m, in \u001b[1;35m<module>\u001b[1;36m\u001b[0m\n\u001b[1;33m    plt.hist(bs_replicates_diff_means, bins=100)\u001b[0m\n",
      "\u001b[1;31mNameError\u001b[0m\u001b[1;31m:\u001b[0m name 'bs_replicates_diff_means' is not defined\n"
     ]
    }
   ],
   "source": [
    "plt.hist(bs_replicates_diff_means, bins=100)\n",
    "plt.axvline(original_diff_means, color='red', label='observed')\n",
    "plt.legend()"
   ]
  },
  {
   "cell_type": "code",
   "execution_count": null,
   "metadata": {},
   "outputs": [],
   "source": [
    "print(pvalue)"
   ]
  },
  {
   "cell_type": "markdown",
   "metadata": {},
   "source": [
    "## Conclusion of Part 1\n",
    "---"
   ]
  },
  {
   "cell_type": "markdown",
   "metadata": {},
   "source": [
    "We get a p-value of 0.0034, which suggests that there is a statistically significant difference. But remember: it is very important to know how different they are! In the previous exercise, you got a difference of 0.2 mm between the means. You should combine this with the statistical significance. Changing by 0.2 mm in 37 years is substantial by evolutionary standards. If it kept changing at that rate, the beak depth would double in only 400 years."
   ]
  },
  {
   "cell_type": "code",
   "execution_count": null,
   "metadata": {},
   "outputs": [],
   "source": [
    "finch_main.species.unique()"
   ]
  },
  {
   "cell_type": "markdown",
   "metadata": {},
   "source": [
    "## PART 2 - Variation in beak shapes\n",
    "---\n",
    "\n",
    "\n",
    "The beak length data are stored as bl_1975 and bl_2012, again with units of millimeters (mm). You still have the beak depth data stored in bd_1975 and bd_2012. Make scatter plots of beak depth (y-axis) versus beak length (x-axis) for the 1975 and 2012 specimens."
   ]
  },
  {
   "cell_type": "code",
   "execution_count": 11,
   "metadata": {},
   "outputs": [
    {
     "data": {
      "text/plain": [
       "<seaborn.axisgrid.FacetGrid at 0x2768d58e880>"
      ]
     },
     "execution_count": 11,
     "metadata": {},
     "output_type": "execute_result"
    },
    {
     "data": {
      "image/png": "[encoded data removed]",
      "text/plain": [
       "<Figure size 421.5x360 with 1 Axes>"
      ]
     },
     "metadata": {},
     "output_type": "display_data"
    }
   ],
   "source": [
    "sns.lmplot(\n",
    "    x='blength',\n",
    "    y='bdepth',\n",
    "    hue='year',\n",
    "    data=finch_main[finch_main.species=='scandens'])"
   ]
  },
  {
   "cell_type": "markdown",
   "metadata": {},
   "source": [
    "## EDA"
   ]
  },
  {
   "cell_type": "code",
   "execution_count": 12,
   "metadata": {},
   "outputs": [],
   "source": [
    "scandens = finch_main[finch_main.species.isin(['scandens'])]"
   ]
  },
  {
   "cell_type": "code",
   "execution_count": 13,
   "metadata": {},
   "outputs": [
    {
     "data": {
      "text/plain": [
       "<matplotlib.legend.Legend at 0x2768d531910>"
      ]
     },
     "execution_count": 13,
     "metadata": {},
     "output_type": "execute_result"
    },
    {
     "data": {
      "image/png": "[encoded data removed]",
      "text/plain": [
       "<Figure size 432x288 with 1 Axes>"
      ]
     },
     "metadata": {},
     "output_type": "display_data"
    }
   ],
   "source": [
    "fig, ax = plt.subplots()\n",
    "\n",
    "ax.plot(scandens[scandens.year==1975].blength,\n",
    "        scandens[scandens.year==1975].bdepth, '.', label='1975')\n",
    "\n",
    "ax.plot(scandens[scandens.year==2012].blength,\n",
    "        scandens[scandens.year==2012].bdepth, '.', label='2012')\n",
    "\n",
    "ax.set(ylabel='Beak depth (mm)', xlabel='Beak length (mm)')\n",
    "\n",
    "ax.legend()"
   ]
  },
  {
   "cell_type": "markdown",
   "metadata": {},
   "source": [
    "Great work! In looking at the plot, we see that beaks got deeper (the red points are higher up in the y-direction), but not really longer. If anything, they got a bit shorter, since the red dots are to the left of the blue dots. So, it does not look like the beaks kept the same shape; they became shorter and deeper."
   ]
  },
  {
   "cell_type": "markdown",
   "metadata": {},
   "source": [
    "## Linear regressions\n",
    "\n",
    "Perform a linear regression for both the 1975 and 2012 data."
   ]
  },
  {
   "cell_type": "code",
   "execution_count": 14,
   "metadata": {},
   "outputs": [],
   "source": [
    "x_1975 = scandens[scandens.year == 1975].blength\n",
    "y_1975 = scandens[scandens.year == 1975].bdepth\n",
    " \n",
    "x_2012 = scandens[scandens.year == 2012].blength\n",
    "y_2012 = scandens[scandens.year == 2012].bdepth\n",
    "\n",
    "# instantiate and fit the model\n",
    "coef_1975, intercept_1975 = np.polyfit(x_1975, y_1975, 1)\n",
    "coef_2012, intercept_2012 = np.polyfit(x_2012, y_2012, 1)\n"
   ]
  },
  {
   "cell_type": "code",
   "execution_count": 15,
   "metadata": {},
   "outputs": [
    {
     "data": {
      "text/plain": [
       "<matplotlib.legend.Legend at 0x2768d6f9ca0>"
      ]
     },
     "execution_count": 15,
     "metadata": {},
     "output_type": "execute_result"
    },
    {
     "data": {
      "image/png": "[encoded data removed]",
      "text/plain": [
       "<Figure size 432x288 with 1 Axes>"
      ]
     },
     "metadata": {},
     "output_type": "display_data"
    }
   ],
   "source": [
    "fig, ax = plt.subplots()\n",
    "\n",
    "# Plot Data\n",
    "ax.plot(scandens[scandens.year==1975].blength,\n",
    "        scandens[scandens.year==1975].bdepth, '.', label='1975', color='blue')\n",
    "\n",
    "# Plot Regression\n",
    "x = [x_1975.min(), x_1975.max()]\n",
    "y = np.polyval((coef_1975, intercept_1975), x)\n",
    "ax.plot(x, y, '-', color='blue')\n",
    "\n",
    "# Plot 2012 Data\n",
    "ax.plot(scandens[scandens.year==2012].blength,\n",
    "        scandens[scandens.year==2012].bdepth, '.', label='2012', color='orange')\n",
    "\n",
    "# Plot Regression\n",
    "x = [x_2012.min(), x_2012.max()]\n",
    "y = np.polyval((coef_2012, intercept_2012), x)\n",
    "ax.plot(x, y, '-', color='orange')\n",
    "\n",
    "ax.set(ylabel='Beak depth (mm)', xlabel='Beak length (mm)')\n",
    "\n",
    "ax.legend()"
   ]
  },
  {
   "cell_type": "markdown",
   "metadata": {},
   "source": [
    "### What is the confidence around the linear fit?  \n",
    " Then, perform pairs bootstrap estimates for the regression parameters. Report 95% confidence intervals on the slope and intercept of the regression line."
   ]
  },
  {
   "cell_type": "code",
   "execution_count": 16,
   "metadata": {},
   "outputs": [],
   "source": [
    "x_1975 = scandens[scandens.year == 1975].blength.to_numpy()\n",
    "y_1975 = scandens[scandens.year == 1975].bdepth.to_numpy()\n",
    "\n",
    "x_2012 = scandens[scandens.year == 2012].blength.to_numpy()\n",
    "y_2012 = scandens[scandens.year == 2012].bdepth.to_numpy()\n"
   ]
  },
  {
   "cell_type": "code",
   "execution_count": 17,
   "metadata": {},
   "outputs": [
    {
     "data": {
      "text/plain": [
       "<matplotlib.legend.Legend at 0x2768e50feb0>"
      ]
     },
     "execution_count": 17,
     "metadata": {},
     "output_type": "execute_result"
    },
    {
     "data": {
      "image/png": "[encoded data removed]",
      "text/plain": [
       "<Figure size 432x288 with 1 Axes>"
      ]
     },
     "metadata": {},
     "output_type": "display_data"
    }
   ],
   "source": [
    "# Let's boot strap and build confidence intervals\n",
    "fig, ax = plt.subplots()\n",
    "\n",
    "# Plot Data\n",
    "ax.plot(scandens[scandens.year==1975].blength,\n",
    "        scandens[scandens.year==1975].bdepth, '.', label='1975', color='blue')\n",
    "\n",
    "\n",
    "# Plot 2012 Data\n",
    "ax.plot(scandens[scandens.year==2012].blength,\n",
    "        scandens[scandens.year==2012].bdepth, '.', label='2012', color='orange')\n",
    "\n",
    "\n",
    "size = 1000\n",
    "\n",
    "index_array_1975 = np.arange(len(x_1975))\n",
    "index_array_2012 = np.arange(len(x_2012))\n",
    "\n",
    "\n",
    "for _ in range(size):\n",
    "    \n",
    "    # boot strap indices\n",
    "    idx_1975 = np.random.choice(index_array_1975, size=len(x_1975))\n",
    "    idx_2012 = np.random.choice(index_array_2012, size=len(x_2012))\n",
    "    \n",
    "    # instantiate and fit the model\n",
    "    bs_x_1975 = x_1975[idx_1975]\n",
    "    bs_y_1975 = y_1975[idx_1975]\n",
    "\n",
    "    bs_x_2012 = x_2012[idx_2012]\n",
    "    bs_y_2012 = y_2012[idx_2012]\n",
    "    \n",
    "    # find coefs\n",
    "    bs_coef_1975, bs_intercept_1975 = np.polyfit(bs_x_1975, bs_y_1975, 1)\n",
    "    bs_coef_2012, bs_intercept_2012 = np.polyfit(bs_x_2012, bs_y_2012, 1)\n",
    "\n",
    "    # Plot Regression\n",
    "    x = [x_1975.min(), x_1975.max()]\n",
    "    y = np.polyval((bs_coef_1975, bs_intercept_1975), x)\n",
    "    ax.plot(x, y, '-', color='grey', alpha=0.02)\n",
    "\n",
    "    # Plot Regression\n",
    "    x = [x_2012.min(), x_2012.max()]\n",
    "    y = np.polyval((bs_coef_2012, bs_intercept_2012), x)\n",
    "    ax.plot(x, y, '-', color='grey', alpha=0.02)\n",
    "\n",
    "    \n",
    "# Plot Regression\n",
    "x = [x_2012.min(), x_2012.max()]\n",
    "y = np.polyval((coef_2012, intercept_2012), x)\n",
    "ax.plot(x, y, '-', color='orange')\n",
    "    \n",
    "# Plot Regression\n",
    "x = [x_1975.min(), x_1975.max()]\n",
    "y = np.polyval((coef_1975, intercept_1975), x)\n",
    "ax.plot(x, y, '-', color='blue')    \n",
    "    \n",
    "ax.set(ylabel='Beak depth (mm)', xlabel='Beak length (mm)')\n",
    "\n",
    "ax.legend()"
   ]
  },
  {
   "cell_type": "markdown",
   "metadata": {},
   "source": [
    "Code from DataCamp"
   ]
  },
  {
   "cell_type": "code",
   "execution_count": 18,
   "metadata": {},
   "outputs": [
    {
     "ename": "NameError",
     "evalue": "name 'bl_1975' is not defined",
     "output_type": "error",
     "traceback": [
      "Traceback \u001b[1;36m(most recent call last)\u001b[0m:\n",
      "\u001b[1;36m  File \u001b[1;32m\"<ipython-input-18-214165af7192>\"\u001b[1;36m, line \u001b[1;32m2\u001b[1;36m, in \u001b[1;35m<module>\u001b[1;36m\u001b[0m\n\u001b[1;33m    slope_1975, intercept_1975 = np.polyfit(bl_1975, bd_1975, 1)\u001b[0m\n",
      "\u001b[1;31mNameError\u001b[0m\u001b[1;31m:\u001b[0m name 'bl_1975' is not defined\n"
     ]
    }
   ],
   "source": [
    "# Compute the linear regressions\n",
    "slope_1975, intercept_1975 = np.polyfit(bl_1975, bd_1975, 1)\n",
    "slope_2012, intercept_2012 = np.polyfit(bl_2012, bd_2012, 1)\n",
    "\n",
    "# Perform pairs bootstrap for the linear regressions\n",
    "bs_slope_reps_1975, bs_intercept_reps_1975 = \\\n",
    "        draw_bs_pairs_linreg(bl_1975, bd_1975, 1000)\n",
    "bs_slope_reps_2012, bs_intercept_reps_2012 = \\\n",
    "        draw_bs_pairs_linreg(bl_2012, bd_2012, 1000)\n",
    "\n",
    "# Compute confidence intervals of slopes\n",
    "slope_conf_int_1975 = np.percentile(bs_slope_reps_1975, [2.5, 97.5])\n",
    "slope_conf_int_2012 = np.percentile(bs_slope_reps_2012, [2.5, 97.5])\n",
    "intercept_conf_int_1975 = np.percentile(bs_intercept_reps_1975, [2.5, 97.5])\n",
    "\n",
    "intercept_conf_int_2012 = np.percentile(bs_intercept_reps_2012, [2.5, 97.5])\n",
    "\n",
    "\n",
    "# Print the results\n",
    "print('1975: slope =', slope_1975,\n",
    "      'conf int =', slope_conf_int_1975)\n",
    "print('1975: intercept =', intercept_1975,\n",
    "      'conf int =', intercept_conf_int_1975)\n",
    "print('2012: slope =', slope_2012,\n",
    "      'conf int =', slope_conf_int_2012)\n",
    "print('2012: intercept =', intercept_2012,\n",
    "      'conf int =', intercept_conf_int_2012)"
   ]
  },
  {
   "cell_type": "code",
   "execution_count": null,
   "metadata": {},
   "outputs": [],
   "source": [
    "# Make scatter plot of 1975 data\n",
    "_ = plt.plot(bl_1975, bd_1975, marker='.',\n",
    "             linestyle='none', color='blue', alpha=0.5)\n",
    "\n",
    "# Make scatter plot of 2012 data\n",
    "_ = plt.plot(bl_2012, bd_2012, marker='.',\n",
    "             linestyle='none', color='red', alpha=0.5)\n",
    "\n",
    "# Label axes and make legend\n",
    "_ = plt.xlabel('beak length (mm)')\n",
    "_ = plt.ylabel('beak depth (mm)')\n",
    "_ = plt.legend(('1975', '2012'), loc='upper left')\n",
    "\n",
    "# Generate x-values for bootstrap lines: x\n",
    "x = np.array([10, 17])\n",
    "\n",
    "# Plot the bootstrap lines\n",
    "for i in range(100):\n",
    "    plt.plot(x, bs_slope_reps_2012[i]*x + bs_intercept_reps_2012[i],\n",
    "             linewidth=0.5, alpha=0.2, color='red')\n",
    "    plt.plot(x, bs_slope_reps_1975[i] * x + bs_intercept_reps_1975[i],\n",
    "             linewidth=0.5, alpha=0.2, color='blue')\n",
    "\n",
    "# Draw the plot again\n",
    "plt.show()"
   ]
  },
  {
   "cell_type": "markdown",
   "metadata": {},
   "source": [
    "# Beak length to depth ratio"
   ]
  },
  {
   "cell_type": "markdown",
   "metadata": {},
   "source": [
    "## Calculation of heritability\n",
    "___\n",
    "\n",
    "\n",
    "Droughts and Selective \n",
    "\n",
    "\n",
    "\n",
    "How strong parental traits are passed on to offspring?\n",
    "\n"
   ]
  },
  {
   "cell_type": "code",
   "execution_count": 19,
   "metadata": {},
   "outputs": [],
   "source": [
    "bd_parent_scandens = np.array([ 8.3318,  8.4035,  8.5317,  8.7202,  8.7089,  8.7541,  8.773 ,\n",
    "        8.8107,  8.7919,  8.8069,  8.6523,  8.6146,  8.6938,  8.7127,\n",
    "        8.7466,  8.7504,  8.7805,  8.7428,  8.7164,  8.8032,  8.8258,\n",
    "        8.856 ,  8.9012,  8.9125,  8.8635,  8.8258,  8.8522,  8.8974,\n",
    "        8.9427,  8.9879,  8.9615,  8.9238,  8.9351,  9.0143,  9.0558,\n",
    "        9.0596,  8.9917,  8.905 ,  8.9314,  8.9465,  8.9879,  8.9804,\n",
    "        9.0219,  9.052 ,  9.0407,  9.0407,  8.9955,  8.9992,  8.9992,\n",
    "        9.0747,  9.0747,  9.5385,  9.4781,  9.4517,  9.3537,  9.2707,\n",
    "        9.1199,  9.1689,  9.1425,  9.135 ,  9.1011,  9.1727,  9.2217,\n",
    "        9.2255,  9.2821,  9.3235,  9.3198,  9.3198,  9.3198,  9.3273,\n",
    "        9.3725,  9.3989,  9.4253,  9.4593,  9.4442,  9.4291,  9.2632,\n",
    "        9.2293,  9.1878,  9.1425,  9.1275,  9.1802,  9.1765,  9.2481,\n",
    "        9.2481,  9.1991,  9.1689,  9.1765,  9.2406,  9.3198,  9.3235,\n",
    "        9.1991,  9.2971,  9.2443,  9.316 ,  9.2934,  9.3914,  9.3989,\n",
    "        9.5121,  9.6176,  9.5535,  9.4668,  9.3725,  9.3348,  9.3763,\n",
    "        9.3839,  9.4216,  9.4065,  9.3348,  9.4442,  9.4367,  9.5083,\n",
    "        9.448 ,  9.4781,  9.595 ,  9.6101,  9.5686,  9.6365,  9.7119,\n",
    "        9.8213,  9.825 ,  9.7609,  9.6516,  9.5988,  9.546 ,  9.6516,\n",
    "        9.7572,  9.8854, 10.0023,  9.3914])\n",
    "\n",
    "bd_offspring_scandens = np.array([ 8.419 ,  9.2468,  8.1532,  8.0089,  8.2215,  8.3734,  8.5025,\n",
    "        8.6392,  8.7684,  8.8139,  8.7911,  8.9051,  8.9203,  8.8747,\n",
    "        8.943 ,  9.0038,  8.981 ,  9.0949,  9.2696,  9.1633,  9.1785,\n",
    "        9.1937,  9.2772,  9.0722,  8.9658,  8.9658,  8.5025,  8.4949,\n",
    "        8.4949,  8.5633,  8.6013,  8.6468,  8.1532,  8.3734,  8.662 ,\n",
    "        8.6924,  8.7456,  8.8367,  8.8595,  8.9658,  8.9582,  8.8671,\n",
    "        8.8671,  8.943 ,  9.0646,  9.1405,  9.2089,  9.2848,  9.3759,\n",
    "        9.4899,  9.4519,  8.1228,  8.2595,  8.3127,  8.4949,  8.6013,\n",
    "        8.4646,  8.5329,  8.7532,  8.8823,  9.0342,  8.6392,  8.6772,\n",
    "        8.6316,  8.7532,  8.8291,  8.8975,  8.9734,  9.0494,  9.1253,\n",
    "        9.1253,  9.1253,  9.1785,  9.2848,  9.4595,  9.3608,  9.2089,\n",
    "        9.2544,  9.3684,  9.3684,  9.2316,  9.1709,  9.2316,  9.0342,\n",
    "        8.8899,  8.8291,  8.981 ,  8.8975, 10.4089, 10.1886,  9.7633,\n",
    "        9.7329,  9.6114,  9.5051,  9.5127,  9.3684,  9.6266,  9.5354,\n",
    "       10.0215, 10.0215,  9.6266,  9.6038,  9.4063,  9.2316,  9.338 ,\n",
    "        9.262 ,  9.262 ,  9.4063,  9.4367,  9.0342,  8.943 ,  8.9203,\n",
    "        8.7835,  8.7835,  9.057 ,  8.9354,  8.8975,  8.8139,  8.8671,\n",
    "        9.0873,  9.2848,  9.2392,  9.2924,  9.4063,  9.3152,  9.4899,\n",
    "        9.5962,  9.6873,  9.5203,  9.6646])\n",
    "\n",
    "\n",
    "\n",
    "bd_parent_fortis = np.array([10.1  ,  9.55 ,  9.4  , 10.25 , 10.125,  9.7  ,  9.05 ,  7.4  ,\n",
    "        9.   ,  8.65 ,  9.625,  9.9  ,  9.55 ,  9.05 ,  8.35 , 10.1  ,\n",
    "       10.1  ,  9.9  , 10.225, 10.   , 10.55 , 10.45 ,  9.2  , 10.2  ,\n",
    "        8.95 , 10.05 , 10.2  ,  9.5  ,  9.925,  9.95 , 10.05 ,  8.75 ,\n",
    "        9.2  , 10.15 ,  9.8  , 10.7  , 10.5  ,  9.55 , 10.55 , 10.475,\n",
    "        8.65 , 10.7  ,  9.1  ,  9.4  , 10.3  ,  9.65 ,  9.5  ,  9.7  ,\n",
    "       10.525,  9.95 , 10.1  ,  9.75 , 10.05 ,  9.9  , 10.   ,  9.1  ,\n",
    "        9.45 ,  9.25 ,  9.5  , 10.   , 10.525,  9.9  , 10.4  ,  8.95 ,\n",
    "        9.4  , 10.95 , 10.75 , 10.1  ,  8.05 ,  9.1  ,  9.55 ,  9.05 ,\n",
    "       10.2  , 10.   , 10.55 , 10.75 ,  8.175,  9.7  ,  8.8  , 10.75 ,\n",
    "        9.3  ,  9.7  ,  9.6  ,  9.75 ,  9.6  , 10.45 , 11.   , 10.85 ,\n",
    "       10.15 , 10.35 , 10.4  ,  9.95 ,  9.1  , 10.1  ,  9.85 ,  9.625,\n",
    "        9.475,  9.   ,  9.25 ,  9.1  ,  9.25 ,  9.2  ,  9.95 ,  8.65 ,\n",
    "        9.8  ,  9.4  ,  9.   ,  8.55 ,  8.75 ,  9.65 ,  8.95 ,  9.15 ,\n",
    "        9.85 , 10.225,  9.825, 10.   ,  9.425, 10.4  ,  9.875,  8.95 ,\n",
    "        8.9  ,  9.35 , 10.425, 10.   , 10.175,  9.875,  9.875,  9.15 ,\n",
    "        9.45 ,  9.025,  9.7  ,  9.7  , 10.05 , 10.3  ,  9.6  , 10.   ,\n",
    "        9.8  , 10.05 ,  8.75 , 10.55 ,  9.7  , 10.   ,  9.85 ,  9.8  ,\n",
    "        9.175,  9.65 ,  9.55 ,  9.9  , 11.55 , 11.3  , 10.4  , 10.8  ,\n",
    "        9.8  , 10.45 , 10.   , 10.75 ,  9.35 , 10.75 ,  9.175,  9.65 ,\n",
    "        8.8  , 10.55 , 10.675,  9.95 ,  9.55 ,  8.825,  9.7  ,  9.85 ,\n",
    "        9.8  ,  9.55 ,  9.275, 10.325,  9.15 ,  9.35 ,  9.15 ,  9.65 ,\n",
    "       10.575,  9.975,  9.55 ,  9.2  ,  9.925,  9.2  ,  9.3  ,  8.775,\n",
    "        9.325,  9.175,  9.325,  8.975,  9.7  ,  9.5  , 10.225, 10.025,\n",
    "        8.2  ,  8.2  ,  9.55 ,  9.05 ,  9.6  ,  9.6  , 10.15 ,  9.875,\n",
    "       10.485, 11.485, 10.985,  9.7  ,  9.65 ,  9.35 , 10.05 , 10.1  ,\n",
    "        9.9  ,  8.95 ,  9.3  ,  9.95 ,  9.45 ,  9.5  ,  8.45 ,  8.8  ,\n",
    "        8.525,  9.375, 10.2  ,  7.625,  8.375,  9.25 ,  9.4  , 10.55 ,\n",
    "        8.9  ,  8.8  ,  9.   ,  8.575,  8.575,  9.6  ,  9.375,  9.6  ,\n",
    "        9.95 ,  9.6  , 10.2  ,  9.85 ,  9.625,  9.025, 10.375, 10.25 ,\n",
    "        9.3  ,  9.5  ,  9.55 ,  8.55 ,  9.05 ,  9.9  ,  9.8  ,  9.75 ,\n",
    "       10.25 ,  9.1  ,  9.65 , 10.3  ,  8.9  ,  9.95 ,  9.5  ,  9.775,\n",
    "        9.425,  7.75 ,  7.55 ,  9.1  ,  9.6  ,  9.575,  8.95 ,  9.65 ,\n",
    "        9.65 ,  9.65 ,  9.525,  9.85 ,  9.05 ,  9.3  ,  8.9  ,  9.45 ,\n",
    "       10.   ,  9.85 ,  9.25 , 10.1  ,  9.125,  9.65 ,  9.1  ,  8.05 ,\n",
    "        7.4  ,  8.85 ,  9.075,  9.   ,  9.7  ,  8.7  ,  9.45 ,  9.7  ,\n",
    "        8.35 ,  8.85 ,  9.7  ,  9.45 , 10.3  , 10.   , 10.45 ,  9.45 ,\n",
    "        8.5  ,  8.3  , 10.   ,  9.225,  9.75 ,  9.15 ,  9.55 ,  9.   ,\n",
    "        9.275,  9.35 ,  8.95 ,  9.875,  8.45 ,  8.6  ,  9.7  ,  8.55 ,\n",
    "        9.05 ,  9.6  ,  8.65 ,  9.2  ,  8.95 ,  9.6  ,  9.15 ,  9.4  ,\n",
    "        8.95 ,  9.95 , 10.55 ,  9.7  ,  8.85 ,  8.8  , 10.   ,  9.05 ,\n",
    "        8.2  ,  8.1  ,  7.25 ,  8.3  ,  9.15 ,  8.6  ,  9.5  ,  8.05 ,\n",
    "        9.425,  9.3  ,  9.8  ,  9.3  ,  9.85 ,  9.5  ,  8.65 ,  9.825,\n",
    "        9.   , 10.45 ,  9.1  ,  9.55 ,  9.05 , 10.   ,  9.35 ,  8.375,\n",
    "        8.3  ,  8.8  , 10.1  ,  9.5  ,  9.75 , 10.1  ,  9.575,  9.425,\n",
    "        9.65 ,  8.725,  9.025,  8.5  ,  8.95 ,  9.3  ,  8.85 ,  8.95 ,\n",
    "        9.8  ,  9.5  ,  8.65 ,  9.1  ,  9.4  ,  8.475,  9.35 ,  7.95 ,\n",
    "        9.35 ,  8.575,  9.05 ,  8.175,  9.85 ,  7.85 ,  9.85 , 10.1  ,\n",
    "        9.35 ,  8.85 ,  8.75 ,  9.625,  9.25 ,  9.55 , 10.325,  8.55 ,\n",
    "        9.675,  9.15 ,  9.   ,  9.65 ,  8.6  ,  8.8  ,  9.   ,  9.95 ,\n",
    "        8.4  ,  9.35 , 10.3  ,  9.05 ,  9.975,  9.975,  8.65 ,  8.725,\n",
    "        8.2  ,  7.85 ,  8.775,  8.5  ,  9.4  ])\n",
    "\n",
    "\n",
    "\n",
    "\n",
    "\n",
    "bd_offspring_fortis = np.array([10.7 ,  9.78,  9.48,  9.6 , 10.27,  9.5 ,  9.  ,  7.46,  7.65,\n",
    "        8.63,  9.81,  9.4 ,  9.48,  8.75,  7.6 , 10.  , 10.09,  9.74,\n",
    "        9.64,  8.49, 10.15, 10.28,  9.2 , 10.01,  9.03,  9.94, 10.5 ,\n",
    "        9.7 , 10.02, 10.04,  9.43,  8.1 ,  9.5 ,  9.9 ,  9.48, 10.18,\n",
    "       10.16,  9.08, 10.39,  9.9 ,  8.4 , 10.6 ,  8.75,  9.46,  9.6 ,\n",
    "        9.6 ,  9.95, 10.05, 10.16, 10.1 ,  9.83,  9.46,  9.7 ,  9.82,\n",
    "       10.34,  8.02,  9.65,  9.87,  9.  , 11.14,  9.25,  8.14, 10.23,\n",
    "        8.7 ,  9.8 , 10.54, 11.19,  9.85,  8.1 ,  9.3 ,  9.34,  9.19,\n",
    "        9.52,  9.36,  8.8 ,  8.6 ,  8.  ,  8.5 ,  8.3 , 10.38,  8.54,\n",
    "        8.94, 10.  ,  9.76,  9.45,  9.89, 10.9 ,  9.91,  9.39,  9.86,\n",
    "        9.74,  9.9 ,  9.09,  9.69, 10.24,  8.9 ,  9.67,  8.93,  9.3 ,\n",
    "        8.67,  9.15,  9.23,  9.59,  9.03,  9.58,  8.97,  8.57,  8.47,\n",
    "        8.71,  9.21,  9.13,  8.5 ,  9.58,  9.21,  9.6 ,  9.32,  8.7 ,\n",
    "       10.46,  9.29,  9.24,  9.45,  9.35, 10.19,  9.91,  9.18,  9.89,\n",
    "        9.6 , 10.3 ,  9.45,  8.79,  9.2 ,  8.8 ,  9.69, 10.61,  9.6 ,\n",
    "        9.9 ,  9.26, 10.2 ,  8.79,  9.28,  8.83,  9.76, 10.2 ,  9.43,\n",
    "        9.4 ,  9.9 ,  9.5 ,  8.95,  9.98,  9.72,  9.86, 11.1 ,  9.14,\n",
    "       10.49,  9.75, 10.35,  9.73,  9.83,  8.69,  9.58,  8.42,  9.25,\n",
    "       10.12,  9.31,  9.99,  8.59,  8.74,  8.79,  9.6 ,  9.52,  8.93,\n",
    "       10.23,  9.35,  9.35,  9.09,  9.04,  9.75, 10.5 ,  9.09,  9.05,\n",
    "        9.54,  9.3 ,  9.06,  8.7 ,  9.32,  8.4 ,  8.67,  8.6 ,  9.53,\n",
    "        9.77,  9.65,  9.43,  8.35,  8.26,  9.5 ,  8.6 ,  9.57,  9.14,\n",
    "       10.79,  8.91,  9.93, 10.7 ,  9.3 ,  9.93,  9.51,  9.44, 10.05,\n",
    "       10.13,  9.24,  8.21,  8.9 ,  9.34,  8.77,  9.4 ,  8.82,  8.83,\n",
    "        8.6 ,  9.5 , 10.2 ,  8.09,  9.07,  9.29,  9.1 , 10.19,  9.25,\n",
    "        8.98,  9.02,  8.6 ,  8.25,  8.7 ,  9.9 ,  9.65,  9.45,  9.38,\n",
    "       10.4 ,  9.96,  9.46,  8.26, 10.05,  8.92,  9.5 ,  9.43,  8.97,\n",
    "        8.44,  8.92, 10.3 ,  8.4 ,  9.37,  9.91, 10.  ,  9.21,  9.95,\n",
    "        8.84,  9.82,  9.5 , 10.29,  8.4 ,  8.31,  9.29,  8.86,  9.4 ,\n",
    "        9.62,  8.62,  8.3 ,  9.8 ,  8.48,  9.61,  9.5 ,  9.37,  8.74,\n",
    "        9.31,  9.5 ,  9.49,  9.74,  9.2 ,  9.24,  9.7 ,  9.64,  9.2 ,\n",
    "        7.5 ,  7.5 ,  8.7 ,  8.31,  9.  ,  9.74,  9.31, 10.5 ,  9.3 ,\n",
    "        8.12,  9.34,  9.72,  9.  ,  9.65,  9.9 , 10.  , 10.1 ,  8.  ,\n",
    "        9.07,  9.75,  9.33,  8.11,  9.36,  9.74,  9.9 ,  9.23,  9.7 ,\n",
    "        8.2 ,  9.35,  9.49,  9.34,  8.87,  9.03,  9.07,  9.43,  8.2 ,\n",
    "        9.19,  9.  ,  9.2 ,  9.06,  9.81,  8.89,  9.4 , 10.45,  9.64,\n",
    "        9.03,  8.71,  9.91,  8.33,  8.2 ,  7.83,  7.14,  8.91,  9.18,\n",
    "        8.8 ,  9.9 ,  7.73,  9.25,  8.7 ,  9.5 ,  9.3 ,  9.05, 10.18,\n",
    "        8.85,  9.24,  9.15,  9.98,  8.77,  9.8 ,  8.65, 10.  ,  8.81,\n",
    "        8.01,  7.9 ,  9.41, 10.18,  9.55,  9.08,  8.4 ,  9.75,  8.9 ,\n",
    "        9.07,  9.35,  8.9 ,  8.19,  8.65,  9.19,  8.9 ,  9.28, 10.58,\n",
    "        9.  ,  9.4 ,  8.91,  9.93, 10.  ,  9.37,  7.4 ,  9.  ,  8.8 ,\n",
    "        9.18,  8.3 , 10.08,  7.9 ,  9.96, 10.4 ,  9.65,  8.8 ,  8.65,\n",
    "        9.7 ,  9.23,  9.43,  9.93,  8.47,  9.55,  9.28,  8.85,  8.9 ,\n",
    "        8.75,  8.63,  9.  ,  9.43,  8.28,  9.23, 10.4 ,  9.  ,  9.8 ,\n",
    "        9.77,  8.97,  8.37,  7.7 ,  7.9 ,  9.5 ,  8.2 ,  8.8 ])\n",
    "\n",
    "\n"
   ]
  },
  {
   "cell_type": "markdown",
   "metadata": {},
   "source": [
    "### What is the relation between in beak depth in offspring vs parental?\n"
   ]
  },
  {
   "cell_type": "code",
   "execution_count": 20,
   "metadata": {},
   "outputs": [
    {
     "data": {
      "image/png": "[encoded data removed]",
      "text/plain": [
       "<Figure size 432x288 with 1 Axes>"
      ]
     },
     "metadata": {},
     "output_type": "display_data"
    }
   ],
   "source": [
    "fig, ax = plt.subplots()\n",
    "\n",
    "ax.plot(\n",
    "    bd_parent_scandens,\n",
    "    bd_offspring_scandens,\n",
    "    marker='.',\n",
    "    ls='none',\n",
    "    alpha=0.5,\n",
    "    label='G. scandens'\n",
    "    \n",
    ")\n",
    "\n",
    "ax.plot(\n",
    "    bd_parent_fortis,\n",
    "    bd_offspring_fortis,\n",
    "    marker='.',\n",
    "    ls='none',\n",
    "    alpha=0.5,\n",
    "    label='G. fortis'\n",
    "    \n",
    ")\n",
    "\n",
    "ax.set(\n",
    "    ylabel='parental beak depth (mm)',\n",
    "    xlabel='offspring beak depth (mm)',\n",
    ")\n",
    "\n",
    "ax.legend()\n",
    "ax.margins(0.1)"
   ]
  },
  {
   "cell_type": "markdown",
   "metadata": {},
   "source": [
    "It seems that in _G. fortis_ It appears as though there is a stronger correlation in G. fortis than in G. scandens. This suggests that beak depth is more strongly inherited in G. fortis. We'll quantify this correlation next."
   ]
  },
  {
   "cell_type": "code",
   "execution_count": 21,
   "metadata": {},
   "outputs": [
    {
     "data": {
      "text/plain": [
       "0.4117063629401258"
      ]
     },
     "execution_count": 21,
     "metadata": {},
     "output_type": "execute_result"
    }
   ],
   "source": [
    "np.corrcoef(bd_parent_scandens, bd_offspring_scandens )[0][1]\n"
   ]
  },
  {
   "cell_type": "markdown",
   "metadata": {},
   "source": [
    "In an effort to quantify the correlation between offspring and parent beak depths, we would like to compute statistics, such as the Pearson correlation coefficient, between parents and offspring. To get confidence intervals on this, we need to do a pairs bootstrap. "
   ]
  },
  {
   "cell_type": "code",
   "execution_count": 26,
   "metadata": {},
   "outputs": [
    {
     "name": "stdout",
     "output_type": "stream",
     "text": [
      "G. scandens: 0.4117063629401258 [0.41170636 0.41170636]\n",
      "G. fortis: 0.7283412395518486 [0.72834124 0.72834124]\n"
     ]
    }
   ],
   "source": [
    "# Compute the Pearson correlation coefficients\n",
    "r_scandens = my_stats.pearson_r(bd_parent_scandens, bd_offspring_scandens )\n",
    "r_fortis = my_stats.pearson_r(bd_parent_fortis, bd_offspring_fortis )\n",
    "\n",
    "# Acquire 1000 bootstrap replicates of Pearson r\n",
    "bs_replicates_scandens = my_stats.draw_bs_pairs(bd_parent_scandens,\n",
    "                                       bd_offspring_scandens,\n",
    "                                       my_stats.pearson_r,\n",
    "                                       size=1000\n",
    "                                      )\n",
    "\n",
    "bs_replicates_fortis = my_stats.draw_bs_pairs(bd_offspring_fortis,\n",
    "                                           bd_parent_fortis,\n",
    "                                           my_stats.pearson_r,\n",
    "                                           size=1000\n",
    "                                          )\n",
    "\n",
    "\n",
    "# Compute 95% confidence intervals\n",
    "conf_int_scandens = np.percentile(bs_replicates_scandens, [2.5, 97.5])\n",
    "conf_int_fortis = np.percentile(bs_replicates_fortis, [2.5, 97.5])\n",
    "\n",
    "# Print results\n",
    "print('G. scandens:', r_scandens, conf_int_scandens)\n",
    "print('G. fortis:', r_fortis, conf_int_fortis)\n"
   ]
  },
  {
   "cell_type": "markdown",
   "metadata": {},
   "source": [
    "It is clear from the confidence intervals that beak depth of the offspring of G. fortis parents is more strongly correlated with their offspring than their G. scandens counterparts."
   ]
  },
  {
   "cell_type": "code",
   "execution_count": null,
   "metadata": {},
   "outputs": [],
   "source": []
  },
  {
   "cell_type": "markdown",
   "metadata": {},
   "source": [
    "## Measuring heritability\n",
    "\n",
    "Remember that the Pearson correlation coefficient is the ratio of the covariance to the geometric mean of the variances of the two data sets. This is a measure of the correlation between parents and offspring, but might not be the best estimate of heritability. If we stop and think, it makes more sense to define heritability as the ratio of the covariance between parent and offspring to the variance of the parents alone. In this exercise, you will estimate the heritability and perform a pairs bootstrap calculation to get the 95% confidence interval.\n",
    "\n",
    "This exercise highlights a very important point. Statistical inference (and data analysis in general) is not a plug-n-chug enterprise. You need to think carefully about the questions you are seeking to answer with your data and analyze them appropriately. If you are interested in how heritable traits are, the quantity we defined as the heritability is more apt than the off-the-shelf statistic, the Pearson correlation coefficient."
   ]
  },
  {
   "cell_type": "code",
   "execution_count": 27,
   "metadata": {},
   "outputs": [
    {
     "data": {
      "text/plain": [
       "array([[0.10385436, 0.05696766],\n",
       "       [0.05696766, 0.18435581]])"
      ]
     },
     "execution_count": 27,
     "metadata": {},
     "output_type": "execute_result"
    }
   ],
   "source": [
    "np.cov(bd_parent_scandens,\n",
    "                                       bd_offspring_scandens,)"
   ]
  },
  {
   "cell_type": "code",
   "execution_count": 31,
   "metadata": {},
   "outputs": [],
   "source": [
    "def heritability(parents, offspring):\n",
    "    \"\"\"Compute the heritability from parent and offspring samples.\"\"\"\n",
    "    covariance_matrix = np.cov(parents, offspring)\n",
    "    return covariance_matrix[0][1] / covariance_matrix[0][0]"
   ]
  },
  {
   "cell_type": "code",
   "execution_count": 30,
   "metadata": {},
   "outputs": [
    {
     "name": "stdout",
     "output_type": "stream",
     "text": [
      "G. scandens: 0.5485340868685982 [0.54853409 0.54853409]\n",
      "G. fortis: 0.7229051911438155 [0.72290519 0.72290519]\n"
     ]
    }
   ],
   "source": [
    "# Compute the heritability\n",
    "heritability_scandens = heritability(bd_parent_scandens, bd_offspring_scandens)\n",
    "heritability_fortis = heritability(bd_parent_fortis, bd_offspring_fortis)\n",
    "\n",
    "# Acquire 1000 bootstrap replicates of heritability\n",
    "replicates_scandens = my_stats.draw_bs_pairs(\n",
    "        bd_parent_scandens, bd_offspring_scandens, heritability, size=1000)\n",
    "        \n",
    "replicates_fortis = my_stats.draw_bs_pairs(\n",
    "        bd_parent_fortis, bd_offspring_fortis, heritability, size=1000)\n",
    "\n",
    "\n",
    "# Compute 95% confidence intervals\n",
    "conf_int_scandens = np.percentile(replicates_scandens, [2.5, 97.5])\n",
    "conf_int_fortis = np.percentile(replicates_fortis, [2.5, 97.5])\n",
    "\n",
    "# Print results\n",
    "print('Heritability')\n",
    "print('G. scandens:', heritability_scandens, conf_int_scandens)\n",
    "print('G. fortis:', heritability_fortis, conf_int_fortis)\n"
   ]
  },
  {
   "cell_type": "code",
   "execution_count": null,
   "metadata": {},
   "outputs": [],
   "source": []
  },
  {
   "cell_type": "code",
   "execution_count": null,
   "metadata": {},
   "outputs": [],
   "source": [
    "# Initialize array of replicates: perm_replicates\n",
    "perm_replicates = np.empty(10000)\n",
    "\n",
    "# Draw replicates\n",
    "for i in range(10000):\n",
    "    # Permute parent beak depths\n",
    "    bd_parent_permuted = np.random.permutation(bd_parent_scandens)\n",
    "    perm_replicates[i] = heritability(bd_parent_permuted, bd_offspring_scandens)\n",
    "\n",
    "\n",
    "# Compute p-value: p\n",
    "p = np.sum(perm_replicates >= heritability_scandens) / len(perm_replicates)\n",
    "\n",
    "# Print the p-value\n",
    "print('p-val =', p)"
   ]
  },
  {
   "cell_type": "markdown",
   "metadata": {},
   "source": [
    "You get a p-value of zero, which means that none of the 10,000 permutation pairs replicates you drew had a heritability high enough to match that which was observed. This strongly suggests that beak depth is heritable in G. scandens, just not as much as in G. fortis. If you like, you can plot a histogram of the heritability replicates to get a feel for how extreme of a value of heritability you might expect by chance."
   ]
  }
 ],
 "metadata": {
  "kernelspec": {
   "display_name": "Python 3 (Spyder)",
   "language": "python3",
   "name": "python3"
  },
  "language_info": {
   "codemirror_mode": {
    "name": "ipython",
    "version": 3
   },
   "file_extension": ".py",
   "mimetype": "text/x-python",
   "name": "python",
   "nbconvert_exporter": "python",
   "pygments_lexer": "ipython3",
   "version": "3.8.5"
  }
 },
 "nbformat": 4,
 "nbformat_minor": 4
}
