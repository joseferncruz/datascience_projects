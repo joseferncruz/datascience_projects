{
 "cells": [
  {
   "cell_type": "markdown",
   "metadata": {},
   "source": [
    "# Data Science Project 01 - Inheritance of beak morphology in the Galapagos finches \n",
    "---\n",
    "_This project was developed as part of the Data Science Certification provided by DataCamp_.\n",
    "Dec 2020.\n",
    "\n",
    "#### José Oliveira da Cruz, Dec 2020.\n",
    "\n",
    "\n",
    "___Disclaimer___: The information about the dataset was provided by DataCamp and my role as student was to code the entire analysis and draw additional conclusions. Initial guidelines were provided by the instructor [Justin Bois](https://bois.caltech.edu/)."
   ]
  },
  {
   "cell_type": "markdown",
   "metadata": {},
   "source": [
    "## Introduction\n",
    "---\n",
    "### The objective of the project is to apply statistical inference uncover evolution of beak morphology. \n",
    "\n",
    "Many of the important observations that led Charles Darwin to develop the theory of evolution were made in the Galápagos archipelago, particularly in the study of the small birds, called finches, that inhabit them. The islands are ideal for studying evolution because they are isolated so they do not have complicated effects from interactions with other species including humans. Furthermore, some of them are small, so entire populations can be monitored on a given island. Every year since 1973, Peter and Rosemary Grant of Princeton University have been spending several months of the year on the tiny volcanic cinder cone island of Daphne Major in the Galápagos.\n",
    "\n",
    "This island has two dominant ground finch species, _Geospiza fortis_ and _Geospiza scandens_. The Grants have monitored them every year, tagging them, making physiological measurements, taking samples for genetic sequencing, and more. In 2014, they published a book entitled \"40 Years of Evolution: Darwin's Finches on Daphne Major Island\". "
   ]
  },
  {
   "cell_type": "code",
   "execution_count": 1,
   "metadata": {},
   "outputs": [],
   "source": [
    "# Import Necessary Packages\n",
    "import numpy as np\n",
    "np.random.seed(0)\n",
    "import seaborn as sns\n",
    "import matplotlib.pyplot as plt\n",
    "import pandas as pd"
   ]
  },
  {
   "cell_type": "markdown",
   "metadata": {},
   "source": [
    "## The dataset\n",
    "---\n",
    "\n",
    "Peter and Rosemary Grant measured during the past 40 years the beak morphology for 2 species of finch birds ( _Geospiza fortis_ and _Geospiza scandens_) present in the the Galápagos island of Daphne Major.\n",
    "\n",
    "The subset of the original dataset used in this notebook was curated and made avaiable by DataCamp staff as part of this project."
   ]
  },
  {
   "cell_type": "code",
   "execution_count": 2,
   "metadata": {},
   "outputs": [],
   "source": [
    "# upload the dataset\n",
    "link_finch_1975 = 'https://assets.datacamp.com/production/repositories/470/datasets/eb228490f7d823bfa6458b93db075ca5ccd3ec3d/finch_beaks_1975.csv'\n",
    "finch_1975 = pd.read_csv(link_finch_1975)\n",
    "finch_1975['year'] = 1975\n",
    "\n",
    "link_finch_2012 = 'https://assets.datacamp.com/production/repositories/470/datasets/b28d5bf65e38460dca7b3c5c0e4d53bdfc1eb905/finch_beaks_2012.csv'\n",
    "finch_2012 = pd.read_csv(link_finch_2012)\n",
    "finch_2012['year'] = 2012\n",
    "\n",
    "# get the same column names\n",
    "finch_1975.columns = finch_2012.columns\n",
    "\n",
    "# Merge the 2 datasets together\n",
    "finch_main = finch_1975.append(finch_2012, ignore_index=True)"
   ]
  },
  {
   "cell_type": "code",
   "execution_count": 3,
   "metadata": {},
   "outputs": [
    {
     "name": "stdout",
     "output_type": "stream",
     "text": [
      "<class 'pandas.core.frame.DataFrame'>\n",
      "RangeIndex: 651 entries, 0 to 650\n",
      "Data columns (total 5 columns):\n",
      " #   Column   Non-Null Count  Dtype  \n",
      "---  ------   --------------  -----  \n",
      " 0   band     651 non-null    int64  \n",
      " 1   species  651 non-null    object \n",
      " 2   blength  651 non-null    float64\n",
      " 3   bdepth   651 non-null    float64\n",
      " 4   year     651 non-null    int64  \n",
      "dtypes: float64(2), int64(2), object(1)\n",
      "memory usage: 25.6+ KB\n"
     ]
    }
   ],
   "source": [
    "finch_main.info()"
   ]
  },
  {
   "cell_type": "markdown",
   "metadata": {},
   "source": [
    "The dataset contains the following information:  \n",
    "\n",
    "|Column|Obs|\n",
    "|---|---|\n",
    "|band|Individual identification|\n",
    "|species |Species ID|\n",
    "|blength | Beak Length in mm|\n",
    "|bdepth | Beak Depth in mm|\n",
    "|year|Year of Measurement|"
   ]
  },
  {
   "cell_type": "code",
   "execution_count": 4,
   "metadata": {},
   "outputs": [
    {
     "data": {
      "text/html": [
       "<div>\n",
       "<style scoped>\n",
       "    .dataframe tbody tr th:only-of-type {\n",
       "        vertical-align: middle;\n",
       "    }\n",
       "\n",
       "    .dataframe tbody tr th {\n",
       "        vertical-align: top;\n",
       "    }\n",
       "\n",
       "    .dataframe thead th {\n",
       "        text-align: right;\n",
       "    }\n",
       "</style>\n",
       "<table border=\"1\" class=\"dataframe\">\n",
       "  <thead>\n",
       "    <tr style=\"text-align: right;\">\n",
       "      <th></th>\n",
       "      <th>band</th>\n",
       "      <th>species</th>\n",
       "      <th>blength</th>\n",
       "      <th>bdepth</th>\n",
       "      <th>year</th>\n",
       "    </tr>\n",
       "  </thead>\n",
       "  <tbody>\n",
       "    <tr>\n",
       "      <th>0</th>\n",
       "      <td>2</td>\n",
       "      <td>fortis</td>\n",
       "      <td>9.4</td>\n",
       "      <td>8.0</td>\n",
       "      <td>1975</td>\n",
       "    </tr>\n",
       "    <tr>\n",
       "      <th>1</th>\n",
       "      <td>9</td>\n",
       "      <td>fortis</td>\n",
       "      <td>9.2</td>\n",
       "      <td>8.3</td>\n",
       "      <td>1975</td>\n",
       "    </tr>\n",
       "    <tr>\n",
       "      <th>2</th>\n",
       "      <td>12</td>\n",
       "      <td>fortis</td>\n",
       "      <td>9.5</td>\n",
       "      <td>7.5</td>\n",
       "      <td>1975</td>\n",
       "    </tr>\n",
       "    <tr>\n",
       "      <th>3</th>\n",
       "      <td>15</td>\n",
       "      <td>fortis</td>\n",
       "      <td>9.5</td>\n",
       "      <td>8.0</td>\n",
       "      <td>1975</td>\n",
       "    </tr>\n",
       "    <tr>\n",
       "      <th>4</th>\n",
       "      <td>305</td>\n",
       "      <td>fortis</td>\n",
       "      <td>11.5</td>\n",
       "      <td>9.9</td>\n",
       "      <td>1975</td>\n",
       "    </tr>\n",
       "  </tbody>\n",
       "</table>\n",
       "</div>"
      ],
      "text/plain": [
       "   band species  blength  bdepth  year\n",
       "0     2  fortis      9.4     8.0  1975\n",
       "1     9  fortis      9.2     8.3  1975\n",
       "2    12  fortis      9.5     7.5  1975\n",
       "3    15  fortis      9.5     8.0  1975\n",
       "4   305  fortis     11.5     9.9  1975"
      ]
     },
     "execution_count": 4,
     "metadata": {},
     "output_type": "execute_result"
    }
   ],
   "source": [
    "finch_main.head()"
   ]
  },
  {
   "cell_type": "markdown",
   "metadata": {},
   "source": [
    "## PART 1 - Exploratory Data Analysis\n",
    "___\n",
    "\n",
    "\n",
    "Peter and Rosemary Grant reported that changes of beak geometry depending on the types of seeds available on the island, and they also noticed that there was some interbreeding with another major species on Daphne Major, Geospiza fortis. \n",
    "\n",
    "The first objective it to understand how the beak morphology (depth and length) of _Geospiza scandens_ changed over time."
   ]
  },
  {
   "cell_type": "code",
   "execution_count": 5,
   "metadata": {},
   "outputs": [
    {
     "data": {
      "text/plain": [
       "array(['fortis', 'scandens'], dtype=object)"
      ]
     },
     "execution_count": 5,
     "metadata": {},
     "output_type": "execute_result"
    }
   ],
   "source": [
    "# The dataset contains 2 species of Geospiza\n",
    "finch_main.species.unique()"
   ]
  },
  {
   "cell_type": "code",
   "execution_count": 6,
   "metadata": {},
   "outputs": [
    {
     "data": {
      "image/png": "[encoded data removed]",
      "text/plain": [
       "<Figure size 432x288 with 1 Axes>"
      ]
     },
     "metadata": {
      "needs_background": "light"
     },
     "output_type": "display_data"
    }
   ],
   "source": [
    "fig, ax = plt.subplots()\n",
    "sns.swarmplot(\n",
    "    x='year',\n",
    "    y='bdepth',\n",
    "    data=finch_main[finch_main.species.isin(['scandens'])],\n",
    "    ax=ax,\n",
    ")\n",
    "ax.set(ylabel='Beak depth (mm)', title=\"Beak Depth in $\\it{G. scandens}$\")\n",
    "ax.margins(0.2)"
   ]
  },
  {
   "cell_type": "markdown",
   "metadata": {},
   "source": [
    "By using simple swarmplots it is not clear whether there are changes in beak depth over the last 40 years. Let's look at the distributions instead."
   ]
  },
  {
   "cell_type": "code",
   "execution_count": 7,
   "metadata": {},
   "outputs": [],
   "source": [
    "def ecdf(\n",
    "        data,\n",
    "):\n",
    "    \"\"\"Returns x, y to plot an Empirical Cumulative Distribution Function.\n",
    "\n",
    "    Parameters\n",
    "    ----------\n",
    "    data : Sequence of int or floats\n",
    "        List of values to sort.\n",
    "\n",
    "    Returns\n",
    "    -------\n",
    "    x : np.array\n",
    "        Sorted numpy array with data.\n",
    "    y : np.array\n",
    "        Percentiles.\n",
    "\n",
    "    \"\"\"\n",
    "    # sort data\n",
    "    x = np.sort(data)\n",
    "\n",
    "    # create linear space between 0 and 1.\n",
    "    y = np.linspace(0, 1, len(data))\n",
    "    \n",
    "    return x, y\n"
   ]
  },
  {
   "cell_type": "code",
   "execution_count": 8,
   "metadata": {},
   "outputs": [
    {
     "data": {
      "image/png": "[encoded data removed]",
      "text/plain": [
       "<Figure size 432x288 with 1 Axes>"
      ]
     },
     "metadata": {
      "needs_background": "light"
     },
     "output_type": "display_data"
    }
   ],
   "source": [
    "# Prepare data for ECDF\n",
    "x_1915, y_1975 = ecdf(finch_1975.bdepth[finch_1975.species.isin(['scandens'])])\n",
    "x_2012, y_2012 = ecdf(finch_2012.bdepth[finch_2012.species.isin(['scandens'])])\n",
    "\n",
    "fig, ax = plt.subplots()\n",
    "\n",
    "ax.plot(x_1915, y_1975, label='1975', marker='.', ls='none')\n",
    "ax.plot(x_2012, y_2012, label='2012', marker='.', ls='none')\n",
    "\n",
    "ax.set(ylabel='ECDF', xlabel='beak depth (mm)', title=\"Beak Depth in $\\it{G. scandens}$\")\n",
    "ax.margins(0.02)\n",
    "ax.legend();"
   ]
  },
  {
   "cell_type": "markdown",
   "metadata": {},
   "source": [
    "It seems that the depth of the beak depth has increased over time but how confident are we about this measurements?  \n",
    "\n",
    "Let's use bootstring calculate the 95% confidence interval on the mean change in beak depth."
   ]
  },
  {
   "cell_type": "code",
   "execution_count": 9,
   "metadata": {},
   "outputs": [],
   "source": [
    "def draw_bs_reps(data, func, size=1):\n",
    "    \"\"\"Draw bootstrap replicates.\n",
    "\n",
    "    Parameters\n",
    "    ----------\n",
    "    data : sequence of int/floats\n",
    "\n",
    "    func : funct\n",
    "        The test statistic to be used.\n",
    "\n",
    "    size : opt, int\n",
    "        The number of replicates to be drawn.\n",
    "\n",
    "    returns\n",
    "    bs_replicates : np.array\n",
    "        Array with bootstrap replicates.\n",
    "    \"\"\"\n",
    "\n",
    "    # Instantiate array to hold the results\n",
    "    bs_replicates = np.empty(size)\n",
    "\n",
    "    # iterate size times\n",
    "    for i in range(size):\n",
    "\n",
    "        # Get a new sample with replacement\n",
    "        bs_sample = np.random.choice(data, size=len(data))\n",
    "\n",
    "        # Perform a test statistic and add data to the bs_replicates array\n",
    "        bs_replicates[i] = func(bs_sample)\n",
    "\n",
    "    return bs_replicates"
   ]
  },
  {
   "cell_type": "code",
   "execution_count": 10,
   "metadata": {},
   "outputs": [],
   "source": [
    "# Extract the data\n",
    "bd_scandens_1975 = finch_1975.bdepth[finch_1975.species.isin(['scandens'])]\n",
    "bd_scandens_2012 = finch_2012.bdepth[finch_2012.species.isin(['scandens'])]\n",
    "\n",
    "# Calculate the original beak mean difference\n",
    "diff_means = bd_scandens_2012.mean() - bd_scandens_1975.mean()"
   ]
  },
  {
   "cell_type": "code",
   "execution_count": 11,
   "metadata": {},
   "outputs": [
    {
     "name": "stdout",
     "output_type": "stream",
     "text": [
      "The original difference of means = 0.22622047244094645 mm\n",
      "95% confidence interval = [0.06096452 0.38898364] mm\n"
     ]
    }
   ],
   "source": [
    "# Draw replicates for each population\n",
    "bs_replicates_1975 = draw_bs_reps(bd_scandens_1975, np.mean, size=10000)\n",
    "bs_replicates_2012 = draw_bs_reps(bd_scandens_2012, np.mean, size=10000)\n",
    "\n",
    "# perform element-wise mean diff\n",
    "bs_diff_means = bs_replicates_2012 - bs_replicates_1975\n",
    "\n",
    "# Get the 95% confidence interval\n",
    "ci95 = np.percentile(bs_diff_means, [2.5, 97.5])\n",
    "\n",
    "# Print the results\n",
    "print(f'The original difference of means = {diff_means} mm')\n",
    "print(f'95% confidence interval = {ci95} mm')"
   ]
  },
  {
   "cell_type": "markdown",
   "metadata": {},
   "source": [
    "Let's plot the histogram to have a picture of the bootstraping process."
   ]
  },
  {
   "cell_type": "code",
   "execution_count": 12,
   "metadata": {},
   "outputs": [
    {
     "data": {
      "image/png": "[encoded data removed]",
      "text/plain": [
       "<Figure size 648x216 with 1 Axes>"
      ]
     },
     "metadata": {
      "needs_background": "light"
     },
     "output_type": "display_data"
    }
   ],
   "source": [
    "fig, ax = plt.subplots(figsize=(9, 3))\n",
    "\n",
    "ax.hist(bs_diff_means, bins=100, density=True);\n",
    "ax.axvline(ci95[0], color='red', label='2.5 percentile')\n",
    "ax.axvline(ci95[1], color='red', label='97.5 percentile')\n",
    "ax.axvline(diff_means, color='black', label='original diff. of means')\n",
    "\n",
    "ax.set(\n",
    "    ylabel='Density',\n",
    "    xlabel='Difference of means (2012 - 1975)',\n",
    "    title='Distribution of Bootstrap replicates'\n",
    ")\n",
    "ax.legend(loc='upper left')\n",
    "ax.margins(0.2)"
   ]
  },
  {
   "cell_type": "markdown",
   "metadata": {},
   "source": [
    "It seems that indeed the beaks of _G. scandens_ have gotten deeper. But how likely is this conclusion to be true?\n",
    "\n",
    "We can use hypothesis testing to address this question. We will ask the following question:\n",
    "\n",
    "- What is the probability that we would get the observed difference in mean beak depth **if the means were the same**? \n",
    "\n",
    "__To test this hypothesis we can use bootstrapping with replacement.__\n",
    "\n",
    "If our questions was about whether the birds come from the same distribution, we could use a permutation test. "
   ]
  },
  {
   "cell_type": "code",
   "execution_count": 13,
   "metadata": {},
   "outputs": [],
   "source": [
    "# Calculate original difference in means\n",
    "original_diff_means = bd_scandens_2012.mean() - bd_scandens_1975.mean()\n",
    "\n",
    "# Merge the populations\n",
    "bd_scandens_merged = np.concatenate((bd_scandens_1975, bd_scandens_2012))\n",
    "\n",
    "# Shift data to center around the full mean with variance unchanged\n",
    "shifted_bd_scandens_1975 = bd_scandens_1975 - bd_scandens_1975.mean()\\\n",
    "                           + bd_scandens_merged.mean()\n",
    "\n",
    "shifted_bd_scandens_2012 = bd_scandens_2012 - bd_scandens_2012.mean()\\\n",
    "                           + bd_scandens_merged.mean()\n",
    "\n",
    "# Create new replicates\n",
    "bs_replicates_scandens_1975 = draw_bs_reps(shifted_bd_scandens_1975,\n",
    "                                           np.mean,\n",
    "                                           size=10000)\n",
    "\n",
    "bs_replicates_scandens_2012 = draw_bs_reps(shifted_bd_scandens_2012,\n",
    "                                           np.mean,\n",
    "                                           size=10000)\n",
    "\n",
    "# Check the difference in means\n",
    "bs_replicates_diff_means = bs_replicates_scandens_2012 - bs_replicates_scandens_1975\n",
    "\n",
    "\n",
    "# Calculate the probability of observing our original results if the means were the same\n",
    "pvalue = np.sum(bs_replicates_diff_means >= original_diff_means)/10000"
   ]
  },
  {
   "cell_type": "markdown",
   "metadata": {},
   "source": [
    "Let's plot the histogram obtained from our bootstrap simulation."
   ]
  },
  {
   "cell_type": "code",
   "execution_count": 14,
   "metadata": {},
   "outputs": [
    {
     "data": {
      "image/png": "[encoded data removed]",
      "text/plain": [
       "<Figure size 648x216 with 1 Axes>"
      ]
     },
     "metadata": {
      "needs_background": "light"
     },
     "output_type": "display_data"
    }
   ],
   "source": [
    "fig, ax = plt.subplots(figsize=(9, 3))\n",
    "\n",
    "ax.hist(bs_replicates_diff_means, bins=100, density=True)\n",
    "\n",
    "ax.axvline(original_diff_means, color='red', label='observed \\ndiff means')\n",
    "\n",
    "ax.set(\n",
    "    ylabel='Density',\n",
    "    xlabel='bs_replicates_diff_means',\n",
    "    title='Null Distribution of Bootstrap replicates'\n",
    ")\n",
    "\n",
    "ax.legend()\n",
    "ax.margins(0.2)"
   ]
  },
  {
   "cell_type": "code",
   "execution_count": 15,
   "metadata": {},
   "outputs": [
    {
     "name": "stdout",
     "output_type": "stream",
     "text": [
      "The probability of observing our results if the difference of means was the same is 0.0033.\n"
     ]
    }
   ],
   "source": [
    "print(f\"The probability of observing our results if the difference of means was the same is {pvalue}.\")"
   ]
  },
  {
   "cell_type": "markdown",
   "metadata": {},
   "source": [
    "### Conclusion of Part 1\n",
    "---"
   ]
  },
  {
   "cell_type": "markdown",
   "metadata": {},
   "source": [
    "There is a statistically significante difference, thus strongly suggesting that beak depth is increasing over time. Specifically, we can observe that there was a 0.2 mm increase over a period of 37 years."
   ]
  },
  {
   "cell_type": "markdown",
   "metadata": {},
   "source": [
    "## PART 2 - Variation in beak shapes in _G. scandens_\n",
    "---\n",
    "\n",
    "Now that we know that there is an increase of beak depth over a time period of 37 years, let's have a look at how the overall shape is changing. "
   ]
  },
  {
   "cell_type": "code",
   "execution_count": 16,
   "metadata": {},
   "outputs": [],
   "source": [
    "scandens = finch_main[finch_main.species.isin(['scandens'])]"
   ]
  },
  {
   "cell_type": "code",
   "execution_count": 17,
   "metadata": {},
   "outputs": [
    {
     "data": {
      "text/plain": [
       "<matplotlib.legend.Legend at 0x12c61e5b430>"
      ]
     },
     "execution_count": 17,
     "metadata": {},
     "output_type": "execute_result"
    },
    {
     "data": {
      "image/png": "[encoded data removed]",
      "text/plain": [
       "<Figure size 432x288 with 1 Axes>"
      ]
     },
     "metadata": {
      "needs_background": "light"
     },
     "output_type": "display_data"
    }
   ],
   "source": [
    "fig, ax = plt.subplots()\n",
    "\n",
    "ax.plot(scandens[scandens.year==1975].blength,\n",
    "        scandens[scandens.year==1975].bdepth, '.', label='1975')\n",
    "\n",
    "ax.plot(scandens[scandens.year==2012].blength,\n",
    "        scandens[scandens.year==2012].bdepth, '.', label='2012')\n",
    "\n",
    "ax.set(\n",
    "    ylabel='Beak depth (mm)',\n",
    "    xlabel='Beak length (mm)',\n",
    "    title='Variation in beak shape: $\\itG.\\ scandens$'\n",
    ")\n",
    "\n",
    "ax.legend(loc='upper left')"
   ]
  },
  {
   "cell_type": "markdown",
   "metadata": {},
   "source": [
    "It seems that longer beak are associated with shorter depths. Interestingly, it seems that in 2012 this ratio is changed. It is possible to observe that the distribution if shifted to the up left corner meaning that birds beak is deeper and maybe shorter and thus it seems that the shape has changed.  \n",
    "\n",
    "Let's investigate further is hint. First, we will model the relation of the beak depth and length with a linear model."
   ]
  },
  {
   "cell_type": "code",
   "execution_count": 18,
   "metadata": {},
   "outputs": [],
   "source": [
    "# extract the data\n",
    "x_1975 = scandens[scandens.year == 1975].blength\n",
    "y_1975 = scandens[scandens.year == 1975].bdepth\n",
    " \n",
    "x_2012 = scandens[scandens.year == 2012].blength\n",
    "y_2012 = scandens[scandens.year == 2012].bdepth\n",
    "\n",
    "# instantiate and fit the model\n",
    "coef_1975, intercept_1975 = np.polyfit(x_1975, y_1975, 1)\n",
    "coef_2012, intercept_2012 = np.polyfit(x_2012, y_2012, 1)\n"
   ]
  },
  {
   "cell_type": "code",
   "execution_count": 19,
   "metadata": {},
   "outputs": [
    {
     "data": {
      "image/png": "[encoded data removed]",
      "text/plain": [
       "<Figure size 432x288 with 1 Axes>"
      ]
     },
     "metadata": {
      "needs_background": "light"
     },
     "output_type": "display_data"
    }
   ],
   "source": [
    "fig, ax = plt.subplots()\n",
    "\n",
    "# Plot Data\n",
    "ax.plot(scandens[scandens.year==1975].blength,\n",
    "        scandens[scandens.year==1975].bdepth, '.', label='1975', color='blue')\n",
    "\n",
    "# Plot Regression if 1975 data\n",
    "x = [x_1975.min(), x_1975.max()]\n",
    "y = np.polyval((coef_1975, intercept_1975), x)\n",
    "ax.plot(x, y, '-', color='blue')\n",
    "\n",
    "# Plot 2012 Data\n",
    "ax.plot(scandens[scandens.year==2012].blength,\n",
    "        scandens[scandens.year==2012].bdepth, '.', label='2012', color='orange')\n",
    "\n",
    "# Plot Regression of 2012 data\n",
    "x = [x_2012.min(), x_2012.max()]\n",
    "y = np.polyval((coef_2012, intercept_2012), x)\n",
    "ax.plot(x, y, '-', color='orange')\n",
    "\n",
    "ax.set(\n",
    "    ylabel='Beak depth (mm)',\n",
    "    xlabel='Beak length (mm)',\n",
    "    title='Variation in beak shape: $\\itG.\\ scandens$'\n",
    ")\n",
    "\n",
    "ax.legend(loc='upper left');"
   ]
  },
  {
   "cell_type": "markdown",
   "metadata": {},
   "source": [
    "It seems tha a linear regression can capture the relation between beak depth and length for both 1975 and 2012 data. What is the confidence around the coefficients?\n",
    "\n",
    "__Bootstrap simulation around the coefficients of the linear regression to find the 95% confidence intervals.__"
   ]
  },
  {
   "cell_type": "code",
   "execution_count": 20,
   "metadata": {},
   "outputs": [],
   "source": [
    "# Extract the data\n",
    "x_1975 = scandens[scandens.year == 1975].blength.to_numpy()\n",
    "y_1975 = scandens[scandens.year == 1975].bdepth.to_numpy()\n",
    "\n",
    "x_2012 = scandens[scandens.year == 2012].blength.to_numpy()\n",
    "y_2012 = scandens[scandens.year == 2012].bdepth.to_numpy()"
   ]
  },
  {
   "cell_type": "code",
   "execution_count": 21,
   "metadata": {},
   "outputs": [
    {
     "data": {
      "image/png": "[encoded data removed]",
      "text/plain": [
       "<Figure size 432x288 with 1 Axes>"
      ]
     },
     "metadata": {
      "needs_background": "light"
     },
     "output_type": "display_data"
    }
   ],
   "source": [
    "# Let's boot strap and build confidence intervals\n",
    "fig, ax = plt.subplots()\n",
    "\n",
    "# Plot Data\n",
    "ax.plot(scandens[scandens.year==1975].blength,\n",
    "        scandens[scandens.year==1975].bdepth, '.', label='1975', color='blue')\n",
    "\n",
    "\n",
    "# Plot 2012 Data\n",
    "ax.plot(scandens[scandens.year==2012].blength,\n",
    "        scandens[scandens.year==2012].bdepth, '.', label='2012', color='orange')\n",
    "\n",
    "\n",
    "size = 1000\n",
    "\n",
    "index_array_1975 = np.arange(len(x_1975))\n",
    "index_array_2012 = np.arange(len(x_2012))\n",
    "\n",
    "bs_replicates_coef_1975 = np.empty(size)\n",
    "bs_replicates_intercept_1975 = np.empty(size)\n",
    "bs_replicates_coef_2012 = np.empty(size)\n",
    "bs_replicates_intercept_2012 = np.empty(size)\n",
    "\n",
    "\n",
    "for i in range(size):\n",
    "    \n",
    "    # boot strap indices\n",
    "    idx_1975 = np.random.choice(index_array_1975, size=len(x_1975))\n",
    "    idx_2012 = np.random.choice(index_array_2012, size=len(x_2012))\n",
    "    \n",
    "    # instantiate and fit the model\n",
    "    bs_x_1975 = x_1975[idx_1975]\n",
    "    bs_y_1975 = y_1975[idx_1975]\n",
    "\n",
    "    bs_x_2012 = x_2012[idx_2012]\n",
    "    bs_y_2012 = y_2012[idx_2012]\n",
    "    \n",
    "    # find coefs\n",
    "    bs_coef_1975, bs_intercept_1975 = np.polyfit(bs_x_1975, bs_y_1975, 1)\n",
    "    bs_coef_2012, bs_intercept_2012 = np.polyfit(bs_x_2012, bs_y_2012, 1)\n",
    "    \n",
    "    # Append the coefs to bs_replicates_coeff and intercept\n",
    "    bs_replicates_coef_1975[i], bs_replicates_intercept_1975[i] = bs_coef_1975, bs_intercept_1975\n",
    "    bs_replicates_coef_2012[i], bs_replicates_intercept_2012[i] = bs_coef_2012, bs_intercept_2012\n",
    "\n",
    "    # Plot Regression\n",
    "    x = [x_1975.min(), x_1975.max()]\n",
    "    y = np.polyval((bs_coef_1975, bs_intercept_1975), x)\n",
    "    ax.plot(x, y, '-', color='grey', alpha=0.02)\n",
    "\n",
    "    # Plot Regression\n",
    "    x = [x_2012.min(), x_2012.max()]\n",
    "    y = np.polyval((bs_coef_2012, bs_intercept_2012), x)\n",
    "    ax.plot(x, y, '-', color='grey', alpha=0.02)\n",
    "\n",
    "    \n",
    "# Plot Regression\n",
    "x = [x_2012.min(), x_2012.max()]\n",
    "y = np.polyval((coef_2012, intercept_2012), x)\n",
    "ax.plot(x, y, '-', color='orange')\n",
    "    \n",
    "# Plot Regression\n",
    "x = [x_1975.min(), x_1975.max()]\n",
    "y = np.polyval((coef_1975, intercept_1975), x)\n",
    "ax.plot(x, y, '-', color='blue')    \n",
    "    \n",
    "ax.set(\n",
    "    ylabel='Beak depth (mm)',\n",
    "    xlabel='Beak length (mm)',\n",
    "    title='Variation in beak shape: $\\itG.\\ scandens$'\n",
    ")\n",
    "\n",
    "ax.legend();"
   ]
  },
  {
   "cell_type": "code",
   "execution_count": 22,
   "metadata": {},
   "outputs": [
    {
     "name": "stdout",
     "output_type": "stream",
     "text": [
      "1975: slope = 0.4652051691605937 95% confidence interval = [0.33985406 0.58651249]\n",
      "1975: intercept = 2.3908752365842263 95% confidence interval = [0.69884163 4.16062188]\n",
      "2012: slope = 0.462630358835313 95% confidence interval = [0.33711123 0.60974767]\n",
      "2012: intercept = 2.9772474982360198 95% confidence interval = [1.00934301 4.64788281]\n"
     ]
    }
   ],
   "source": [
    "# Calculate the 95%CI around the slope and intercept\n",
    "coef_conf_int_1975 = np.percentile(bs_replicates_coef_1975, [2.5, 97.5])\n",
    "coef_conf_int_2012 = np.percentile(bs_replicates_coef_2012, [2.5, 97.5])\n",
    "intercept_conf_int_1975 = np.percentile(bs_replicates_intercept_1975, [2.5, 97.5])\n",
    "intercept_conf_int_2012 = np.percentile(bs_replicates_intercept_2012, [2.5, 97.5])\n",
    "\n",
    "print('1975: slope =', coef_1975,\n",
    "      '95% confidence interval =', coef_conf_int_1975)\n",
    "print('1975: intercept =', intercept_1975,\n",
    "      '95% confidence interval =', intercept_conf_int_1975)\n",
    "print('2012: slope =', coef_2012,\n",
    "      '95% confidence interval =', coef_conf_int_2012)\n",
    "print('2012: intercept =', intercept_2012,\n",
    "      '95% confidence interval =', intercept_conf_int_2012)"
   ]
  },
  {
   "cell_type": "markdown",
   "metadata": {},
   "source": [
    "## Beak length to depth ratio\n",
    "The linear regressions showed interesting information about the beak geometry.\n",
    "\n",
    "The slope was the same in 1975 and 2012, suggesting that for every millimeter gained in beak length, the birds gained about half a millimeter in depth in both years.\n",
    "\n",
    "However, if we are interested in the shape of the beak, we want to compare the ratio of beak length to beak depth."
   ]
  },
  {
   "cell_type": "code",
   "execution_count": 23,
   "metadata": {},
   "outputs": [],
   "source": [
    "# extract the data\n",
    "bl_1975 = scandens[scandens.year == 1975].blength\n",
    "bd_1975 = scandens[scandens.year == 1975].bdepth\n",
    " \n",
    "bl_2012 = scandens[scandens.year == 2012].blength\n",
    "bd_2012 = scandens[scandens.year == 2012].bdepth"
   ]
  },
  {
   "cell_type": "code",
   "execution_count": 24,
   "metadata": {},
   "outputs": [],
   "source": [
    "# Compute length-to-depth ratios\n",
    "ratio_1975 = bl_1975 / bd_1975\n",
    "ratio_2012 = bl_2012 / bd_2012\n",
    "\n",
    "# Compute means\n",
    "mean_ratio_1975 = np.mean(ratio_1975)\n",
    "mean_ratio_2012 = np.mean(ratio_2012)\n",
    "\n",
    "# Generate bootstrap replicates of the means\n",
    "bs_replicates_1975 = draw_bs_reps(ratio_1975, np.mean, 10000)\n",
    "bs_replicates_2012 = draw_bs_reps(ratio_2012, np.mean, 10000)\n",
    "\n",
    "# Compute the 99% confidence intervals\n",
    "conf_int_1975 = np.percentile(bs_replicates_1975, [0.5, 99.5])\n",
    "conf_int_2012 = np.percentile(bs_replicates_2012, [0.5, 99.5])"
   ]
  },
  {
   "cell_type": "code",
   "execution_count": 25,
   "metadata": {},
   "outputs": [
    {
     "data": {
      "image/png": "[encoded data removed]",
      "text/plain": [
       "<Figure size 720x360 with 1 Axes>"
      ]
     },
     "metadata": {
      "needs_background": "light"
     },
     "output_type": "display_data"
    }
   ],
   "source": [
    "# Plotting the histogram to visualize distribution of bootstrap replicates\n",
    "fig, ax = plt.subplots(figsize=(10, 5))\n",
    "\n",
    "ax.hist(bs_replicates_1975, bins=100, density=True, label='1975');\n",
    "\n",
    "ax.axvline(conf_int_1975[0], color='red', label='95% CI')\n",
    "ax.axvline(conf_int_1975[1], color='red')\n",
    "\n",
    "ax.hist(bs_replicates_2012, bins=100, density=True, label='2012', color='orange');\n",
    "\n",
    "ax.axvline(conf_int_2012[0], color='red')\n",
    "ax.axvline(conf_int_2012[1], color='red')\n",
    "\n",
    "\n",
    "ax.set(ylabel='Density', xlabel='Length-to-Depth Ratio', ylim=(0, 60), title='$\\itG.\\ scandens$')\n",
    "ax.legend()\n",
    "ax.margins(0.2)\n",
    "    \n",
    "fig.suptitle('Bootstrap replicates and 95% Confidence Intervals (CI)');"
   ]
  },
  {
   "cell_type": "markdown",
   "metadata": {},
   "source": [
    "### How different is the Length-to-Depth ratio?\n"
   ]
  },
  {
   "cell_type": "code",
   "execution_count": 26,
   "metadata": {},
   "outputs": [
    {
     "name": "stdout",
     "output_type": "stream",
     "text": [
      "1975: mean ratio =  1.57888 | 95% CI = [1.5570093  1.60118994]\n",
      "2012: mean ratio =  1.46583 | 95% CI = [1.44433598 1.48835609]\n"
     ]
    }
   ],
   "source": [
    "# Print the results\n",
    "print(f'1975: mean ratio = {mean_ratio_1975: 0.5f} | 95% CI = {conf_int_1975}')\n",
    "print(f'2012: mean ratio = {mean_ratio_2012: 0.5f} | 95% CI = {conf_int_2012}')\n"
   ]
  },
  {
   "cell_type": "code",
   "execution_count": 27,
   "metadata": {},
   "outputs": [
    {
     "data": {
      "text/plain": [
       "[Text(0, 0.5, 'Length-to-Depth Ratio'), Text(0.5, 0, 'year')]"
      ]
     },
     "execution_count": 27,
     "metadata": {},
     "output_type": "execute_result"
    },
    {
     "data": {
      "image/png": "[encoded data removed]",
      "text/plain": [
       "<Figure size 144x288 with 1 Axes>"
      ]
     },
     "metadata": {
      "needs_background": "light"
     },
     "output_type": "display_data"
    }
   ],
   "source": [
    "# plot data with DI\n",
    "fig, ax = plt.subplots(figsize=(2, 4))\n",
    "\n",
    "ax.plot(['1975', '2012'], [mean_ratio_1975, mean_ratio_2012], marker='.', ls='none')\n",
    "\n",
    "ax.fill_between(\n",
    "    ['1975'],\n",
    "    [conf_int_1975[0]],\n",
    "    [conf_int_1975[1]],\n",
    "    color='b',\n",
    "    alpha=0.5,\n",
    ")\n",
    "ax.fill_between(\n",
    "    ['2012'],\n",
    "    [conf_int_2012[0]],\n",
    "    [conf_int_2012[1]],\n",
    "    color='b',\n",
    "    alpha=0.5,\n",
    ")\n",
    "\n",
    "ax.set(ylabel='Length-to-Depth Ratio', xlabel='year')"
   ]
  },
  {
   "cell_type": "markdown",
   "metadata": {},
   "source": [
    "The mean beak length-to-depth ratio decreased by about 0.1, or 7%, from 1975 to 2012. The 99% confidence intervals are not close to overlapping, so the beak shape changed during this time period."
   ]
  },
  {
   "cell_type": "markdown",
   "metadata": {},
   "source": [
    "## PART 3 - Measuring Heritability\n",
    "___\n",
    "\n",
    "What is driving the beak shapping in _G. scadens_. One of the possible explanations is the breeding with another species of finch birds: _G. fortis_. This putative breeding may cause the _G. scandens_ to inherit some features from the _G. fortis_.\n",
    "\n",
    "### If this is true, then how strong parental traits (ie beak depth) are passed on to offspring?\n"
   ]
  },
  {
   "cell_type": "markdown",
   "metadata": {},
   "source": [
    "### Data\n",
    "\n",
    "The subdataset used in this part was provided by datacamp. "
   ]
  },
  {
   "cell_type": "code",
   "execution_count": 28,
   "metadata": {},
   "outputs": [],
   "source": [
    "url = 'https://raw.githubusercontent.com/joseferncruz/datascience_projects/master/notebooks/project01/data/finch_par_off.csv'"
   ]
  },
  {
   "cell_type": "code",
   "execution_count": 29,
   "metadata": {},
   "outputs": [
    {
     "data": {
      "text/html": [
       "<div>\n",
       "<style scoped>\n",
       "    .dataframe tbody tr th:only-of-type {\n",
       "        vertical-align: middle;\n",
       "    }\n",
       "\n",
       "    .dataframe tbody tr th {\n",
       "        vertical-align: top;\n",
       "    }\n",
       "\n",
       "    .dataframe thead th {\n",
       "        text-align: right;\n",
       "    }\n",
       "</style>\n",
       "<table border=\"1\" class=\"dataframe\">\n",
       "  <thead>\n",
       "    <tr style=\"text-align: right;\">\n",
       "      <th></th>\n",
       "      <th>species</th>\n",
       "      <th>generation</th>\n",
       "      <th>bdepth</th>\n",
       "    </tr>\n",
       "  </thead>\n",
       "  <tbody>\n",
       "    <tr>\n",
       "      <th>0</th>\n",
       "      <td>scandens</td>\n",
       "      <td>parental</td>\n",
       "      <td>8.3318</td>\n",
       "    </tr>\n",
       "    <tr>\n",
       "      <th>1</th>\n",
       "      <td>scandens</td>\n",
       "      <td>parental</td>\n",
       "      <td>8.4035</td>\n",
       "    </tr>\n",
       "    <tr>\n",
       "      <th>2</th>\n",
       "      <td>scandens</td>\n",
       "      <td>parental</td>\n",
       "      <td>8.5317</td>\n",
       "    </tr>\n",
       "    <tr>\n",
       "      <th>3</th>\n",
       "      <td>scandens</td>\n",
       "      <td>parental</td>\n",
       "      <td>8.7202</td>\n",
       "    </tr>\n",
       "    <tr>\n",
       "      <th>4</th>\n",
       "      <td>scandens</td>\n",
       "      <td>parental</td>\n",
       "      <td>8.7089</td>\n",
       "    </tr>\n",
       "  </tbody>\n",
       "</table>\n",
       "</div>"
      ],
      "text/plain": [
       "    species generation  bdepth\n",
       "0  scandens   parental  8.3318\n",
       "1  scandens   parental  8.4035\n",
       "2  scandens   parental  8.5317\n",
       "3  scandens   parental  8.7202\n",
       "4  scandens   parental  8.7089"
      ]
     },
     "execution_count": 29,
     "metadata": {},
     "output_type": "execute_result"
    }
   ],
   "source": [
    "# Download dataset from github\n",
    "finch_par_off = pd.read_csv(url, index_col=0)\n",
    "\n",
    "finch_par_off.head()"
   ]
  },
  {
   "cell_type": "markdown",
   "metadata": {},
   "source": [
    "\n",
    "`bd_parent_scandens`, `bd_parent_fortis`: average beak depth (in mm) of two parents of the species _G. scandens_ and _G. fortis_, respectively;  \n",
    "`bd_offspring_scandens`, `bd_offspring_fortis`: average beak depth of the offspring of the respective parents.\n"
   ]
  },
  {
   "cell_type": "code",
   "execution_count": 30,
   "metadata": {},
   "outputs": [],
   "source": [
    "# Extract data into individual variables\n",
    "bd_parent_scandens = finch_par_off[\n",
    "    (finch_par_off['species']=='scandens') & (finch_par_off['generation']=='parental')\n",
    "].bdepth.to_numpy()\n",
    "\n",
    "bd_offspring_scandens = finch_par_off[\n",
    "    (finch_par_off['species']=='scandens') & (finch_par_off['generation']=='offspring')\n",
    "].bdepth.to_numpy()\n",
    "\n",
    "bd_parent_fortis = finch_par_off[\n",
    "    (finch_par_off['species']=='fortis') & (finch_par_off['generation']=='parental')\n",
    "].bdepth.to_numpy()\n",
    "\n",
    "bd_offspring_fortis = finch_par_off[\n",
    "    (finch_par_off['species']=='fortis') & (finch_par_off['generation']=='offspring')\n",
    "].bdepth.to_numpy()"
   ]
  },
  {
   "cell_type": "markdown",
   "metadata": {},
   "source": [
    "### What is the relation between in beak depth in offspring vs parental?\n"
   ]
  },
  {
   "cell_type": "code",
   "execution_count": 31,
   "metadata": {},
   "outputs": [
    {
     "data": {
      "image/png": "[encoded data removed]",
      "text/plain": [
       "<Figure size 432x288 with 1 Axes>"
      ]
     },
     "metadata": {
      "needs_background": "light"
     },
     "output_type": "display_data"
    }
   ],
   "source": [
    "fig, ax = plt.subplots()\n",
    "\n",
    "ax.plot(\n",
    "    bd_parent_scandens,\n",
    "    bd_offspring_scandens,\n",
    "    marker='.',\n",
    "    ls='none',\n",
    "    alpha=0.5,\n",
    "    label='G. scandens'\n",
    "    \n",
    ")\n",
    "\n",
    "ax.plot(\n",
    "    bd_parent_fortis,\n",
    "    bd_offspring_fortis,\n",
    "    marker='.',\n",
    "    ls='none',\n",
    "    alpha=0.5,\n",
    "    label='G. fortis'\n",
    "    \n",
    ")\n",
    "\n",
    "ax.set(\n",
    "    ylabel='parental beak depth (mm)',\n",
    "    xlabel='offspring beak depth (mm)',\n",
    ")\n",
    "\n",
    "ax.legend()\n",
    "ax.margins(0.1)"
   ]
  },
  {
   "cell_type": "markdown",
   "metadata": {},
   "source": [
    "It seems that in _G. fortis_ It appears as though there is a stronger correlation in G. fortis than in G. scandens. This suggests that beak depth is more strongly inherited in G. fortis. \n",
    "\n",
    "### Quantification of this correlation using the pearson correlation coefficient and bootstrapping to get the confidence interval."
   ]
  },
  {
   "cell_type": "code",
   "execution_count": 32,
   "metadata": {},
   "outputs": [],
   "source": [
    "def draw_bs_pairs(x, y, func, size=1):\n",
    "    \"\"\"Perform pairs bootstrap for a single statistic test.\n",
    "    \n",
    "    Parameters\n",
    "    ----------\n",
    "    x : list, np.array\n",
    "    y : list, np.array\n",
    "    func : function\n",
    "        The function used as test statistic\n",
    "    size : int\n",
    "        Number of bootstrap iterations\n",
    "    \n",
    "    \n",
    "    Returns\n",
    "    -------\n",
    "    bs_replicates : np.array\n",
    "        Array of length size with values of the func applied to the bootstrap replicates.\n",
    "    \n",
    "    \"\"\"\n",
    "\n",
    "    # Set up array of indices to sample from: inds\n",
    "    inds = np.arange(len(x))\n",
    "\n",
    "    # Initialize replicates: bs_replicates\n",
    "    bs_replicates = np.empty(size)\n",
    "\n",
    "    # Generate replicates\n",
    "    for i in range(size):\n",
    "        \n",
    "        # bootstrap indices\n",
    "        bs_inds = np.random.choice(inds, size=len(inds))\n",
    "        \n",
    "        # Extract data\n",
    "        bs_x, bs_y = x[inds], y[inds]\n",
    "        \n",
    "        # Calculate test statistic and append result\n",
    "        bs_replicates[i] = func(bs_x, bs_y)\n",
    "\n",
    "    return bs_replicates"
   ]
  },
  {
   "cell_type": "code",
   "execution_count": 33,
   "metadata": {},
   "outputs": [],
   "source": [
    "def pearson_r(data1, data2):\n",
    "    \"\"\"Returns the pearson's correlation coefficient.\n",
    "    \n",
    "    \n",
    "    \n",
    "    Parameters\n",
    "    ----------\n",
    "    data1 : list, np.array\n",
    "\n",
    "    data2 : list, np.array\n",
    "    \n",
    "    Returns\n",
    "    ------    \n",
    "        Pearson's Correlation coefficient\n",
    "    \"\"\"\n",
    "    \n",
    "    return np.corrcoef(data1, data2)[0][1]"
   ]
  },
  {
   "cell_type": "code",
   "execution_count": 34,
   "metadata": {},
   "outputs": [
    {
     "name": "stdout",
     "output_type": "stream",
     "text": [
      "G. scandens: 0.4117063629401258 [0.41170636 0.41170636]\n",
      "G. fortis: 0.7283412395518486 [0.72834124 0.72834124]\n"
     ]
    }
   ],
   "source": [
    "# Compute the Pearson correlation coefficients\n",
    "r_scandens = pearson_r(bd_parent_scandens, bd_offspring_scandens )\n",
    "r_fortis =  pearson_r(bd_parent_fortis, bd_offspring_fortis )\n",
    "\n",
    "# Acquire 1000 bootstrap replicates of Pearson r\n",
    "bs_replicates_scandens = draw_bs_pairs(bd_parent_scandens,\n",
    "                                       bd_offspring_scandens,\n",
    "                                       pearson_r,\n",
    "                                       size=1000\n",
    "                                      )\n",
    "\n",
    "bs_replicates_fortis = draw_bs_pairs(bd_offspring_fortis,\n",
    "                                           bd_parent_fortis,\n",
    "                                           pearson_r,\n",
    "                                           size=1000\n",
    "                                          )\n",
    "\n",
    "# Compute 95% confidence intervals\n",
    "conf_int_scandens = np.percentile(bs_replicates_scandens, [2.5, 97.5])\n",
    "conf_int_fortis = np.percentile(bs_replicates_fortis, [2.5, 97.5])\n",
    "\n",
    "# Print results\n",
    "print('G. scandens:', r_scandens, conf_int_scandens)\n",
    "print('G. fortis:', r_fortis, conf_int_fortis)"
   ]
  },
  {
   "cell_type": "markdown",
   "metadata": {},
   "source": [
    "It is clear from the confidence intervals that beak depth of the offspring of G. fortis parents is more strongly correlated with their offspring than their G. scandens counterparts."
   ]
  },
  {
   "cell_type": "markdown",
   "metadata": {},
   "source": [
    "### Measuring heritability\n",
    "\n",
    "The Pearson correlation coefficient is the ratio of the covariance to the geometric mean of the variances of the two data sets. This is a measure of the correlation between parents and offspring, but might not be the best estimate of heritability.\n",
    "\n",
    "It makes more sense to define heritability as the ratio of the covariance between parent and offspring to the variance of the parents alone.\n",
    "\n",
    "### Let's stimate the heritability and perform a pairs bootstrap calculation to get the 95% confidence interval."
   ]
  },
  {
   "cell_type": "code",
   "execution_count": 35,
   "metadata": {},
   "outputs": [],
   "source": [
    "def heritability(parents, offspring):\n",
    "    \"\"\"Compute the heritability from parent and offspring samples.\n",
    "    \n",
    "    Parameters\n",
    "    ----------\n",
    "    parents : list, np.array\n",
    "    offspring : list, np.array\n",
    "    \n",
    "    \n",
    "    Retuns\n",
    "    ------\n",
    "    float\n",
    "        covariance(parents, offspring) / variance(parents)\n",
    "    \n",
    "    \"\"\"\n",
    "    \n",
    "    covariance_matrix = np.cov(parents, offspring)\n",
    "    \n",
    "    return covariance_matrix[0][1] / covariance_matrix[0][0]"
   ]
  },
  {
   "cell_type": "code",
   "execution_count": 36,
   "metadata": {},
   "outputs": [
    {
     "name": "stdout",
     "output_type": "stream",
     "text": [
      "Heritability Measurements\n",
      "G. scandens:  0.55 | 95% CI: [0.54853409 0.54853409]\n",
      "G. fortis:  0.72 | 95% CI: [0.72290519 0.72290519]\n"
     ]
    }
   ],
   "source": [
    "# Compute the heritability\n",
    "heritability_scandens = heritability(bd_parent_scandens, bd_offspring_scandens)\n",
    "heritability_fortis = heritability(bd_parent_fortis, bd_offspring_fortis)\n",
    "\n",
    "# Acquire 1000 bootstrap replicates of heritability\n",
    "replicates_scandens = draw_bs_pairs(bd_parent_scandens, bd_offspring_scandens, heritability, size=1000)        \n",
    "replicates_fortis = draw_bs_pairs(bd_parent_fortis, bd_offspring_fortis, heritability, size=1000)\n",
    "\n",
    "# Compute 95% confidence intervals\n",
    "conf_int_scandens = np.percentile(replicates_scandens, [2.5, 97.5])\n",
    "conf_int_fortis = np.percentile(replicates_fortis, [2.5, 97.5])\n",
    "\n",
    "# Print results\n",
    "print('Heritability Measurements')\n",
    "print(f'G. scandens: {heritability_scandens: 0.2f} | 95% CI: {conf_int_scandens}')\n",
    "print(f'G. fortis: {heritability_fortis: 0.2f} | 95% CI: {conf_int_fortis}')\n"
   ]
  },
  {
   "cell_type": "markdown",
   "metadata": {},
   "source": [
    "It seems that features from G. fortis are strong passed into offspring when compared to G. scandens.  \n",
    "\n",
    "The heritability of beak depth in G. scandens seems low (~0.55).  It could be that this observed heritability was just achieved by chance and beak depth is actually not really heritable in the species. Let's test this hypothesis using a __permutation test__."
   ]
  },
  {
   "cell_type": "code",
   "execution_count": 37,
   "metadata": {},
   "outputs": [
    {
     "name": "stdout",
     "output_type": "stream",
     "text": [
      "The p-value associated is: 0.0\n"
     ]
    }
   ],
   "source": [
    "# Initialize array of replicates: perm_replicates\n",
    "perm_replicates = np.empty(10000)\n",
    "\n",
    "# Draw replicates\n",
    "for i in range(10000):\n",
    "    \n",
    "    # Permute parent beak depths\n",
    "    bd_parent_permuted = np.random.permutation(bd_parent_scandens)\n",
    "    perm_replicates[i] = heritability(bd_parent_permuted, bd_offspring_scandens)\n",
    "\n",
    "# Compute p-value: p\n",
    "p = np.sum(perm_replicates >= heritability_scandens) / len(perm_replicates)\n",
    "\n",
    "print(f'The p-value associated is: {p}')"
   ]
  },
  {
   "cell_type": "code",
   "execution_count": 38,
   "metadata": {},
   "outputs": [
    {
     "data": {
      "image/png": "[encoded data removed]",
      "text/plain": [
       "<Figure size 432x288 with 1 Axes>"
      ]
     },
     "metadata": {
      "needs_background": "light"
     },
     "output_type": "display_data"
    }
   ],
   "source": [
    "# plot the null distribution\n",
    "fig, ax = plt.subplots()\n",
    "\n",
    "ax.hist(perm_replicates, bins=100, density=True, label='Perm Rep Dis')\n",
    "ax.axvline(heritability_scandens, color='red', label='Observed heritability')\n",
    "\n",
    "ax.set(ylabel='Density', xlabel='heritability', title='Distribution of Permutation Heritability Replicates')\n",
    "\n",
    "ax.legend(loc='upper left')\n",
    "ax.margins(0.3)\n",
    "\n",
    "plt.show()"
   ]
  },
  {
   "cell_type": "markdown",
   "metadata": {},
   "source": [
    "### Conclusion of Part 3\n",
    "---\n",
    "\n",
    "The associated p-value is 0 means that in our simulation (10000 iterations) there was no value high enough to match the heritability observed.\n",
    "\n",
    "This strongly suggests that beak depth is heritable in _G. scandens_ although in a lesser extent compared to _G. fortis_."
   ]
  }
 ],
 "metadata": {
  "kernelspec": {
   "display_name": "Python 3",
   "language": "python",
   "name": "python3"
  },
  "language_info": {
   "codemirror_mode": {
    "name": "ipython",
    "version": 3
   },
   "file_extension": ".py",
   "mimetype": "text/x-python",
   "name": "python",
   "nbconvert_exporter": "python",
   "pygments_lexer": "ipython3",
   "version": "3.8.5"
  }
 },
 "nbformat": 4,
 "nbformat_minor": 4
}
